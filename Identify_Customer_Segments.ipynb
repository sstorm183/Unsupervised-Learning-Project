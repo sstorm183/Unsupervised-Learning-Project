{
 "cells": [
  {
   "cell_type": "markdown",
   "metadata": {},
   "source": [
    "# Project: Identify Customer Segments\n",
    "\n",
    "## Steven Storm Udacity Unsupervised Learning Project For WGU\n",
    "\n",
    "In this project, you will apply unsupervised learning techniques to identify segments of the population that form the core customer base for a mail-order sales company in Germany. These segments can then be used to direct marketing campaigns towards audiences that will have the highest expected rate of returns. The data that you will use has been provided by our partners at Bertelsmann Arvato Analytics, and represents a real-life data science task.\n",
    "\n",
    "This notebook will help you complete this task by providing a framework within which you will perform your analysis steps. In each step of the project, you will see some text describing the subtask that you will perform, followed by one or more code cells for you to complete your work. **Feel free to add additional code and markdown cells as you go along so that you can explore everything in precise chunks.** The code cells provided in the base template will outline only the major tasks, and will usually not be enough to cover all of the minor tasks that comprise it.\n",
    "\n",
    "It should be noted that while there will be precise guidelines on how you should handle certain tasks in the project, there will also be places where an exact specification is not provided. **There will be times in the project where you will need to make and justify your own decisions on how to treat the data.** These are places where there may not be only one way to handle the data. In real-life tasks, there may be many valid ways to approach an analysis task. One of the most important things you can do is clearly document your approach so that other scientists can understand the decisions you've made.\n",
    "\n",
    "At the end of most sections, there will be a Markdown cell labeled **Discussion**. In these cells, you will report your findings for the completed section, as well as document the decisions that you made in your approach to each subtask. **Your project will be evaluated not just on the code used to complete the tasks outlined, but also your communication about your observations and conclusions at each stage.**"
   ]
  },
  {
   "cell_type": "code",
   "execution_count": 1,
   "metadata": {},
   "outputs": [
    {
     "data": {
      "text/plain": [
       "'\\nImport note: The classroom currently uses sklearn version 0.19.\\nIf you need to use an imputer, it is available in sklearn.preprocessing.Imputer,\\ninstead of sklearn.impute as in newer versions of sklearn.\\n'"
      ]
     },
     "execution_count": 1,
     "metadata": {},
     "output_type": "execute_result"
    }
   ],
   "source": [
    "# import libraries here; add more as necessary\n",
    "import numpy as np\n",
    "import pandas as pd\n",
    "import matplotlib.pyplot as plt\n",
    "import seaborn as sns\n",
    "import warnings\n",
    "from sklearn.impute import SimpleImputer\n",
    "from sklearn.preprocessing import StandardScaler\n",
    "from sklearn.decomposition import PCA   \n",
    "from sklearn.cluster import KMeans\n",
    "# magic word for producing visualizations in notebook\n",
    "%matplotlib inline\n",
    "warnings.filterwarnings(\"ignore\")\n",
    "'''\n",
    "Import note: The classroom currently uses sklearn version 0.19.\n",
    "If you need to use an imputer, it is available in sklearn.preprocessing.Imputer,\n",
    "instead of sklearn.impute as in newer versions of sklearn.\n",
    "'''"
   ]
  },
  {
   "cell_type": "markdown",
   "metadata": {},
   "source": [
    "### Step 0: Load the Data\n",
    "\n",
    "There are four files associated with this project (not including this one):\n",
    "\n",
    "- `Udacity_AZDIAS_Subset.csv`: Demographics data for the general population of Germany; 891211 persons (rows) x 85 features (columns).\n",
    "- `Udacity_CUSTOMERS_Subset.csv`: Demographics data for customers of a mail-order company; 191652 persons (rows) x 85 features (columns).\n",
    "- `Data_Dictionary.md`: Detailed information file about the features in the provided datasets.\n",
    "- `AZDIAS_Feature_Summary.csv`: Summary of feature attributes for demographics data; 85 features (rows) x 4 columns\n",
    "\n",
    "Each row of the demographics files represents a single person, but also includes information outside of individuals, including information about their household, building, and neighborhood. You will use this information to cluster the general population into groups with similar demographic properties. Then, you will see how the people in the customers dataset fit into those created clusters. The hope here is that certain clusters are over-represented in the customers data, as compared to the general population; those over-represented clusters will be assumed to be part of the core userbase. This information can then be used for further applications, such as targeting for a marketing campaign.\n",
    "\n",
    "To start off with, load in the demographics data for the general population into a pandas DataFrame, and do the same for the feature attributes summary. Note for all of the `.csv` data files in this project: they're semicolon (`;`) delimited, so you'll need an additional argument in your [`read_csv()`](https://pandas.pydata.org/pandas-docs/stable/generated/pandas.read_csv.html) call to read in the data properly. Also, considering the size of the main dataset, it may take some time for it to load completely.\n",
    "\n",
    "Once the dataset is loaded, it's recommended that you take a little bit of time just browsing the general structure of the dataset and feature summary file. You'll be getting deep into the innards of the cleaning in the first major step of the project, so gaining some general familiarity can help you get your bearings."
   ]
  },
  {
   "cell_type": "code",
   "execution_count": 2,
   "metadata": {},
   "outputs": [],
   "source": [
    "# Load in the general demographics data.\n",
    "azdias = pd.read_csv(\"Udacity_AZDIAS_Subset.csv\", delimiter = \";\")\n",
    "\n",
    "# Load in the feature summary file.\n",
    "feat_info = pd.read_csv(\"AZDIAS_Feature_Summary.csv\", delimiter = \";\")"
   ]
  },
  {
   "cell_type": "code",
   "execution_count": 3,
   "metadata": {},
   "outputs": [
    {
     "data": {
      "text/html": [
       "<div>\n",
       "<style scoped>\n",
       "    .dataframe tbody tr th:only-of-type {\n",
       "        vertical-align: middle;\n",
       "    }\n",
       "\n",
       "    .dataframe tbody tr th {\n",
       "        vertical-align: top;\n",
       "    }\n",
       "\n",
       "    .dataframe thead th {\n",
       "        text-align: right;\n",
       "    }\n",
       "</style>\n",
       "<table border=\"1\" class=\"dataframe\">\n",
       "  <thead>\n",
       "    <tr style=\"text-align: right;\">\n",
       "      <th></th>\n",
       "      <th>AGER_TYP</th>\n",
       "      <th>ALTERSKATEGORIE_GROB</th>\n",
       "      <th>ANREDE_KZ</th>\n",
       "      <th>CJT_GESAMTTYP</th>\n",
       "      <th>FINANZ_MINIMALIST</th>\n",
       "      <th>FINANZ_SPARER</th>\n",
       "      <th>FINANZ_VORSORGER</th>\n",
       "      <th>FINANZ_ANLEGER</th>\n",
       "      <th>FINANZ_UNAUFFAELLIGER</th>\n",
       "      <th>FINANZ_HAUSBAUER</th>\n",
       "      <th>...</th>\n",
       "      <th>PLZ8_ANTG1</th>\n",
       "      <th>PLZ8_ANTG2</th>\n",
       "      <th>PLZ8_ANTG3</th>\n",
       "      <th>PLZ8_ANTG4</th>\n",
       "      <th>PLZ8_BAUMAX</th>\n",
       "      <th>PLZ8_HHZ</th>\n",
       "      <th>PLZ8_GBZ</th>\n",
       "      <th>ARBEIT</th>\n",
       "      <th>ORTSGR_KLS9</th>\n",
       "      <th>RELAT_AB</th>\n",
       "    </tr>\n",
       "  </thead>\n",
       "  <tbody>\n",
       "    <tr>\n",
       "      <th>0</th>\n",
       "      <td>-1</td>\n",
       "      <td>2</td>\n",
       "      <td>1</td>\n",
       "      <td>2.0</td>\n",
       "      <td>3</td>\n",
       "      <td>4</td>\n",
       "      <td>3</td>\n",
       "      <td>5</td>\n",
       "      <td>5</td>\n",
       "      <td>3</td>\n",
       "      <td>...</td>\n",
       "      <td>NaN</td>\n",
       "      <td>NaN</td>\n",
       "      <td>NaN</td>\n",
       "      <td>NaN</td>\n",
       "      <td>NaN</td>\n",
       "      <td>NaN</td>\n",
       "      <td>NaN</td>\n",
       "      <td>NaN</td>\n",
       "      <td>NaN</td>\n",
       "      <td>NaN</td>\n",
       "    </tr>\n",
       "    <tr>\n",
       "      <th>1</th>\n",
       "      <td>-1</td>\n",
       "      <td>1</td>\n",
       "      <td>2</td>\n",
       "      <td>5.0</td>\n",
       "      <td>1</td>\n",
       "      <td>5</td>\n",
       "      <td>2</td>\n",
       "      <td>5</td>\n",
       "      <td>4</td>\n",
       "      <td>5</td>\n",
       "      <td>...</td>\n",
       "      <td>2.0</td>\n",
       "      <td>3.0</td>\n",
       "      <td>2.0</td>\n",
       "      <td>1.0</td>\n",
       "      <td>1.0</td>\n",
       "      <td>5.0</td>\n",
       "      <td>4.0</td>\n",
       "      <td>3.0</td>\n",
       "      <td>5.0</td>\n",
       "      <td>4.0</td>\n",
       "    </tr>\n",
       "    <tr>\n",
       "      <th>2</th>\n",
       "      <td>-1</td>\n",
       "      <td>3</td>\n",
       "      <td>2</td>\n",
       "      <td>3.0</td>\n",
       "      <td>1</td>\n",
       "      <td>4</td>\n",
       "      <td>1</td>\n",
       "      <td>2</td>\n",
       "      <td>3</td>\n",
       "      <td>5</td>\n",
       "      <td>...</td>\n",
       "      <td>3.0</td>\n",
       "      <td>3.0</td>\n",
       "      <td>1.0</td>\n",
       "      <td>0.0</td>\n",
       "      <td>1.0</td>\n",
       "      <td>4.0</td>\n",
       "      <td>4.0</td>\n",
       "      <td>3.0</td>\n",
       "      <td>5.0</td>\n",
       "      <td>2.0</td>\n",
       "    </tr>\n",
       "    <tr>\n",
       "      <th>3</th>\n",
       "      <td>2</td>\n",
       "      <td>4</td>\n",
       "      <td>2</td>\n",
       "      <td>2.0</td>\n",
       "      <td>4</td>\n",
       "      <td>2</td>\n",
       "      <td>5</td>\n",
       "      <td>2</td>\n",
       "      <td>1</td>\n",
       "      <td>2</td>\n",
       "      <td>...</td>\n",
       "      <td>2.0</td>\n",
       "      <td>2.0</td>\n",
       "      <td>2.0</td>\n",
       "      <td>0.0</td>\n",
       "      <td>1.0</td>\n",
       "      <td>3.0</td>\n",
       "      <td>4.0</td>\n",
       "      <td>2.0</td>\n",
       "      <td>3.0</td>\n",
       "      <td>3.0</td>\n",
       "    </tr>\n",
       "    <tr>\n",
       "      <th>4</th>\n",
       "      <td>-1</td>\n",
       "      <td>3</td>\n",
       "      <td>1</td>\n",
       "      <td>5.0</td>\n",
       "      <td>4</td>\n",
       "      <td>3</td>\n",
       "      <td>4</td>\n",
       "      <td>1</td>\n",
       "      <td>3</td>\n",
       "      <td>2</td>\n",
       "      <td>...</td>\n",
       "      <td>2.0</td>\n",
       "      <td>4.0</td>\n",
       "      <td>2.0</td>\n",
       "      <td>1.0</td>\n",
       "      <td>2.0</td>\n",
       "      <td>3.0</td>\n",
       "      <td>3.0</td>\n",
       "      <td>4.0</td>\n",
       "      <td>6.0</td>\n",
       "      <td>5.0</td>\n",
       "    </tr>\n",
       "  </tbody>\n",
       "</table>\n",
       "<p>5 rows × 85 columns</p>\n",
       "</div>"
      ],
      "text/plain": [
       "   AGER_TYP  ALTERSKATEGORIE_GROB  ANREDE_KZ  CJT_GESAMTTYP  \\\n",
       "0        -1                     2          1            2.0   \n",
       "1        -1                     1          2            5.0   \n",
       "2        -1                     3          2            3.0   \n",
       "3         2                     4          2            2.0   \n",
       "4        -1                     3          1            5.0   \n",
       "\n",
       "   FINANZ_MINIMALIST  FINANZ_SPARER  FINANZ_VORSORGER  FINANZ_ANLEGER  \\\n",
       "0                  3              4                 3               5   \n",
       "1                  1              5                 2               5   \n",
       "2                  1              4                 1               2   \n",
       "3                  4              2                 5               2   \n",
       "4                  4              3                 4               1   \n",
       "\n",
       "   FINANZ_UNAUFFAELLIGER  FINANZ_HAUSBAUER  ...  PLZ8_ANTG1  PLZ8_ANTG2  \\\n",
       "0                      5                 3  ...         NaN         NaN   \n",
       "1                      4                 5  ...         2.0         3.0   \n",
       "2                      3                 5  ...         3.0         3.0   \n",
       "3                      1                 2  ...         2.0         2.0   \n",
       "4                      3                 2  ...         2.0         4.0   \n",
       "\n",
       "   PLZ8_ANTG3  PLZ8_ANTG4  PLZ8_BAUMAX  PLZ8_HHZ  PLZ8_GBZ  ARBEIT  \\\n",
       "0         NaN         NaN          NaN       NaN       NaN     NaN   \n",
       "1         2.0         1.0          1.0       5.0       4.0     3.0   \n",
       "2         1.0         0.0          1.0       4.0       4.0     3.0   \n",
       "3         2.0         0.0          1.0       3.0       4.0     2.0   \n",
       "4         2.0         1.0          2.0       3.0       3.0     4.0   \n",
       "\n",
       "   ORTSGR_KLS9  RELAT_AB  \n",
       "0          NaN       NaN  \n",
       "1          5.0       4.0  \n",
       "2          5.0       2.0  \n",
       "3          3.0       3.0  \n",
       "4          6.0       5.0  \n",
       "\n",
       "[5 rows x 85 columns]"
      ]
     },
     "execution_count": 3,
     "metadata": {},
     "output_type": "execute_result"
    }
   ],
   "source": [
    "# Check the structure of the data after it's loaded (e.g. print the number of\n",
    "# rows and columns, print the first few rows).\n",
    "#azdias.info()\n",
    "azdias.head()\n"
   ]
  },
  {
   "cell_type": "code",
   "execution_count": 4,
   "metadata": {},
   "outputs": [
    {
     "name": "stdout",
     "output_type": "stream",
     "text": [
      "<class 'pandas.core.frame.DataFrame'>\n",
      "RangeIndex: 85 entries, 0 to 84\n",
      "Data columns (total 4 columns):\n",
      " #   Column              Non-Null Count  Dtype \n",
      "---  ------              --------------  ----- \n",
      " 0   attribute           85 non-null     object\n",
      " 1   information_level   85 non-null     object\n",
      " 2   type                85 non-null     object\n",
      " 3   missing_or_unknown  85 non-null     object\n",
      "dtypes: object(4)\n",
      "memory usage: 2.8+ KB\n"
     ]
    },
    {
     "data": {
      "text/html": [
       "<div>\n",
       "<style scoped>\n",
       "    .dataframe tbody tr th:only-of-type {\n",
       "        vertical-align: middle;\n",
       "    }\n",
       "\n",
       "    .dataframe tbody tr th {\n",
       "        vertical-align: top;\n",
       "    }\n",
       "\n",
       "    .dataframe thead th {\n",
       "        text-align: right;\n",
       "    }\n",
       "</style>\n",
       "<table border=\"1\" class=\"dataframe\">\n",
       "  <thead>\n",
       "    <tr style=\"text-align: right;\">\n",
       "      <th></th>\n",
       "      <th>attribute</th>\n",
       "      <th>information_level</th>\n",
       "      <th>type</th>\n",
       "      <th>missing_or_unknown</th>\n",
       "    </tr>\n",
       "  </thead>\n",
       "  <tbody>\n",
       "    <tr>\n",
       "      <th>0</th>\n",
       "      <td>AGER_TYP</td>\n",
       "      <td>person</td>\n",
       "      <td>categorical</td>\n",
       "      <td>[-1,0]</td>\n",
       "    </tr>\n",
       "    <tr>\n",
       "      <th>1</th>\n",
       "      <td>ALTERSKATEGORIE_GROB</td>\n",
       "      <td>person</td>\n",
       "      <td>ordinal</td>\n",
       "      <td>[-1,0,9]</td>\n",
       "    </tr>\n",
       "    <tr>\n",
       "      <th>2</th>\n",
       "      <td>ANREDE_KZ</td>\n",
       "      <td>person</td>\n",
       "      <td>categorical</td>\n",
       "      <td>[-1,0]</td>\n",
       "    </tr>\n",
       "    <tr>\n",
       "      <th>3</th>\n",
       "      <td>CJT_GESAMTTYP</td>\n",
       "      <td>person</td>\n",
       "      <td>categorical</td>\n",
       "      <td>[0]</td>\n",
       "    </tr>\n",
       "    <tr>\n",
       "      <th>4</th>\n",
       "      <td>FINANZ_MINIMALIST</td>\n",
       "      <td>person</td>\n",
       "      <td>ordinal</td>\n",
       "      <td>[-1]</td>\n",
       "    </tr>\n",
       "  </tbody>\n",
       "</table>\n",
       "</div>"
      ],
      "text/plain": [
       "              attribute information_level         type missing_or_unknown\n",
       "0              AGER_TYP            person  categorical             [-1,0]\n",
       "1  ALTERSKATEGORIE_GROB            person      ordinal           [-1,0,9]\n",
       "2             ANREDE_KZ            person  categorical             [-1,0]\n",
       "3         CJT_GESAMTTYP            person  categorical                [0]\n",
       "4     FINANZ_MINIMALIST            person      ordinal               [-1]"
      ]
     },
     "execution_count": 4,
     "metadata": {},
     "output_type": "execute_result"
    }
   ],
   "source": [
    "feat_info.info()\n",
    "feat_info.head()"
   ]
  },
  {
   "cell_type": "markdown",
   "metadata": {},
   "source": [
    "> **Tip**: Add additional cells to keep everything in reasonably-sized chunks! Keyboard shortcut `esc --> a` (press escape to enter command mode, then press the 'A' key) adds a new cell before the active cell, and `esc --> b` adds a new cell after the active cell. If you need to convert an active cell to a markdown cell, use `esc --> m` and to convert to a code cell, use `esc --> y`. \n",
    "\n",
    "## Step 1: Preprocessing\n",
    "\n",
    "### Step 1.1: Assess Missing Data\n",
    "\n",
    "The feature summary file contains a summary of properties for each demographics data column. You will use this file to help you make cleaning decisions during this stage of the project. First of all, you should assess the demographics data in terms of missing data. Pay attention to the following points as you perform your analysis, and take notes on what you observe. Make sure that you fill in the **Discussion** cell with your findings and decisions at the end of each step that has one!\n",
    "\n",
    "#### Step 1.1.1: Convert Missing Value Codes to NaNs\n",
    "The fourth column of the feature attributes summary (loaded in above as `feat_info`) documents the codes from the data dictionary that indicate missing or unknown data. While the file encodes this as a list (e.g. `[-1,0]`), this will get read in as a string object. You'll need to do a little bit of parsing to make use of it to identify and clean the data. Convert data that matches a 'missing' or 'unknown' value code into a numpy NaN value. You might want to see how much data takes on a 'missing' or 'unknown' code, and how much data is naturally missing, as a point of interest.\n",
    "\n",
    "**As one more reminder, you are encouraged to add additional cells to break up your analysis into manageable chunks.**"
   ]
  },
  {
   "cell_type": "code",
   "execution_count": 5,
   "metadata": {},
   "outputs": [
    {
     "data": {
      "text/html": [
       "<div>\n",
       "<style scoped>\n",
       "    .dataframe tbody tr th:only-of-type {\n",
       "        vertical-align: middle;\n",
       "    }\n",
       "\n",
       "    .dataframe tbody tr th {\n",
       "        vertical-align: top;\n",
       "    }\n",
       "\n",
       "    .dataframe thead th {\n",
       "        text-align: right;\n",
       "    }\n",
       "</style>\n",
       "<table border=\"1\" class=\"dataframe\">\n",
       "  <thead>\n",
       "    <tr style=\"text-align: right;\">\n",
       "      <th></th>\n",
       "      <th>AGER_TYP</th>\n",
       "      <th>ALTERSKATEGORIE_GROB</th>\n",
       "      <th>ANREDE_KZ</th>\n",
       "      <th>CJT_GESAMTTYP</th>\n",
       "      <th>FINANZ_MINIMALIST</th>\n",
       "      <th>FINANZ_SPARER</th>\n",
       "      <th>FINANZ_VORSORGER</th>\n",
       "      <th>FINANZ_ANLEGER</th>\n",
       "      <th>FINANZ_UNAUFFAELLIGER</th>\n",
       "      <th>FINANZ_HAUSBAUER</th>\n",
       "      <th>...</th>\n",
       "      <th>PLZ8_ANTG1</th>\n",
       "      <th>PLZ8_ANTG2</th>\n",
       "      <th>PLZ8_ANTG3</th>\n",
       "      <th>PLZ8_ANTG4</th>\n",
       "      <th>PLZ8_BAUMAX</th>\n",
       "      <th>PLZ8_HHZ</th>\n",
       "      <th>PLZ8_GBZ</th>\n",
       "      <th>ARBEIT</th>\n",
       "      <th>ORTSGR_KLS9</th>\n",
       "      <th>RELAT_AB</th>\n",
       "    </tr>\n",
       "  </thead>\n",
       "  <tbody>\n",
       "    <tr>\n",
       "      <th>0</th>\n",
       "      <td>NaN</td>\n",
       "      <td>2.0</td>\n",
       "      <td>1</td>\n",
       "      <td>2.0</td>\n",
       "      <td>3</td>\n",
       "      <td>4</td>\n",
       "      <td>3</td>\n",
       "      <td>5</td>\n",
       "      <td>5</td>\n",
       "      <td>3</td>\n",
       "      <td>...</td>\n",
       "      <td>NaN</td>\n",
       "      <td>NaN</td>\n",
       "      <td>NaN</td>\n",
       "      <td>NaN</td>\n",
       "      <td>NaN</td>\n",
       "      <td>NaN</td>\n",
       "      <td>NaN</td>\n",
       "      <td>NaN</td>\n",
       "      <td>NaN</td>\n",
       "      <td>NaN</td>\n",
       "    </tr>\n",
       "    <tr>\n",
       "      <th>1</th>\n",
       "      <td>NaN</td>\n",
       "      <td>1.0</td>\n",
       "      <td>2</td>\n",
       "      <td>5.0</td>\n",
       "      <td>1</td>\n",
       "      <td>5</td>\n",
       "      <td>2</td>\n",
       "      <td>5</td>\n",
       "      <td>4</td>\n",
       "      <td>5</td>\n",
       "      <td>...</td>\n",
       "      <td>2.0</td>\n",
       "      <td>3.0</td>\n",
       "      <td>2.0</td>\n",
       "      <td>1.0</td>\n",
       "      <td>1.0</td>\n",
       "      <td>5.0</td>\n",
       "      <td>4.0</td>\n",
       "      <td>3.0</td>\n",
       "      <td>5.0</td>\n",
       "      <td>4.0</td>\n",
       "    </tr>\n",
       "    <tr>\n",
       "      <th>2</th>\n",
       "      <td>NaN</td>\n",
       "      <td>3.0</td>\n",
       "      <td>2</td>\n",
       "      <td>3.0</td>\n",
       "      <td>1</td>\n",
       "      <td>4</td>\n",
       "      <td>1</td>\n",
       "      <td>2</td>\n",
       "      <td>3</td>\n",
       "      <td>5</td>\n",
       "      <td>...</td>\n",
       "      <td>3.0</td>\n",
       "      <td>3.0</td>\n",
       "      <td>1.0</td>\n",
       "      <td>0.0</td>\n",
       "      <td>1.0</td>\n",
       "      <td>4.0</td>\n",
       "      <td>4.0</td>\n",
       "      <td>3.0</td>\n",
       "      <td>5.0</td>\n",
       "      <td>2.0</td>\n",
       "    </tr>\n",
       "    <tr>\n",
       "      <th>3</th>\n",
       "      <td>2.0</td>\n",
       "      <td>4.0</td>\n",
       "      <td>2</td>\n",
       "      <td>2.0</td>\n",
       "      <td>4</td>\n",
       "      <td>2</td>\n",
       "      <td>5</td>\n",
       "      <td>2</td>\n",
       "      <td>1</td>\n",
       "      <td>2</td>\n",
       "      <td>...</td>\n",
       "      <td>2.0</td>\n",
       "      <td>2.0</td>\n",
       "      <td>2.0</td>\n",
       "      <td>0.0</td>\n",
       "      <td>1.0</td>\n",
       "      <td>3.0</td>\n",
       "      <td>4.0</td>\n",
       "      <td>2.0</td>\n",
       "      <td>3.0</td>\n",
       "      <td>3.0</td>\n",
       "    </tr>\n",
       "    <tr>\n",
       "      <th>4</th>\n",
       "      <td>NaN</td>\n",
       "      <td>3.0</td>\n",
       "      <td>1</td>\n",
       "      <td>5.0</td>\n",
       "      <td>4</td>\n",
       "      <td>3</td>\n",
       "      <td>4</td>\n",
       "      <td>1</td>\n",
       "      <td>3</td>\n",
       "      <td>2</td>\n",
       "      <td>...</td>\n",
       "      <td>2.0</td>\n",
       "      <td>4.0</td>\n",
       "      <td>2.0</td>\n",
       "      <td>1.0</td>\n",
       "      <td>2.0</td>\n",
       "      <td>3.0</td>\n",
       "      <td>3.0</td>\n",
       "      <td>4.0</td>\n",
       "      <td>6.0</td>\n",
       "      <td>5.0</td>\n",
       "    </tr>\n",
       "  </tbody>\n",
       "</table>\n",
       "<p>5 rows × 85 columns</p>\n",
       "</div>"
      ],
      "text/plain": [
       "   AGER_TYP  ALTERSKATEGORIE_GROB  ANREDE_KZ  CJT_GESAMTTYP  \\\n",
       "0       NaN                   2.0          1            2.0   \n",
       "1       NaN                   1.0          2            5.0   \n",
       "2       NaN                   3.0          2            3.0   \n",
       "3       2.0                   4.0          2            2.0   \n",
       "4       NaN                   3.0          1            5.0   \n",
       "\n",
       "   FINANZ_MINIMALIST  FINANZ_SPARER  FINANZ_VORSORGER  FINANZ_ANLEGER  \\\n",
       "0                  3              4                 3               5   \n",
       "1                  1              5                 2               5   \n",
       "2                  1              4                 1               2   \n",
       "3                  4              2                 5               2   \n",
       "4                  4              3                 4               1   \n",
       "\n",
       "   FINANZ_UNAUFFAELLIGER  FINANZ_HAUSBAUER  ...  PLZ8_ANTG1  PLZ8_ANTG2  \\\n",
       "0                      5                 3  ...         NaN         NaN   \n",
       "1                      4                 5  ...         2.0         3.0   \n",
       "2                      3                 5  ...         3.0         3.0   \n",
       "3                      1                 2  ...         2.0         2.0   \n",
       "4                      3                 2  ...         2.0         4.0   \n",
       "\n",
       "   PLZ8_ANTG3  PLZ8_ANTG4  PLZ8_BAUMAX  PLZ8_HHZ  PLZ8_GBZ  ARBEIT  \\\n",
       "0         NaN         NaN          NaN       NaN       NaN     NaN   \n",
       "1         2.0         1.0          1.0       5.0       4.0     3.0   \n",
       "2         1.0         0.0          1.0       4.0       4.0     3.0   \n",
       "3         2.0         0.0          1.0       3.0       4.0     2.0   \n",
       "4         2.0         1.0          2.0       3.0       3.0     4.0   \n",
       "\n",
       "   ORTSGR_KLS9  RELAT_AB  \n",
       "0          NaN       NaN  \n",
       "1          5.0       4.0  \n",
       "2          5.0       2.0  \n",
       "3          3.0       3.0  \n",
       "4          6.0       5.0  \n",
       "\n",
       "[5 rows x 85 columns]"
      ]
     },
     "execution_count": 5,
     "metadata": {},
     "output_type": "execute_result"
    }
   ],
   "source": [
    "# Identify missing or unknown data values and convert them to NaNs.\n",
    "for attribute in feat_info['attribute']:\n",
    "\n",
    "    temp = feat_info[feat_info['attribute']==attribute].missing_or_unknown.iloc[0].strip('[]').split(',')\n",
    "    \n",
    "    nan_list = [float(x) if x.lstrip('-').isnumeric() else x for x in temp]\n",
    "    #lstrip for getting rid of the negative sign in the string\n",
    "    #isnumeric checks whether it is number or not\n",
    "    \n",
    "\n",
    "    azdias[attribute].replace(to_replace=nan_list,\n",
    "                      value=np.nan, inplace=True)\n",
    "azdias.head()"
   ]
  },
  {
   "cell_type": "markdown",
   "metadata": {},
   "source": [
    "#### Step 1.1.2: Assess Missing Data in Each Column\n",
    "\n",
    "How much missing data is present in each column? There are a few columns that are outliers in terms of the proportion of values that are missing. You will want to use matplotlib's [`hist()`](https://matplotlib.org/api/_as_gen/matplotlib.pyplot.hist.html) function to visualize the distribution of missing value counts to find these columns. Identify and document these columns. While some of these columns might have justifications for keeping or re-encoding the data, for this project you should just remove them from the dataframe. (Feel free to make remarks about these outlier columns in the discussion, however!)\n",
    "\n",
    "For the remaining features, are there any patterns in which columns have, or share, missing data?"
   ]
  },
  {
   "cell_type": "code",
   "execution_count": 6,
   "metadata": {},
   "outputs": [
    {
     "data": {
      "text/plain": [
       "<AxesSubplot:>"
      ]
     },
     "execution_count": 6,
     "metadata": {},
     "output_type": "execute_result"
    },
    {
     "data": {
      "image/png": "[encoded data removed]",
      "text/plain": [
       "<Figure size 1440x1080 with 1 Axes>"
      ]
     },
     "metadata": {
      "needs_background": "light"
     },
     "output_type": "display_data"
    }
   ],
   "source": [
    "# Perform an assessment of how much missing data there is in each column of the\n",
    "# dataset.\n",
    "percent_missing = azdias.isnull().sum() * 100 / len(azdias)\n",
    "missing_value_azdias = pd.DataFrame({'column_name': azdias.columns,\n",
    "                                 'percent_missing': percent_missing}).sort_values(by = 'percent_missing', ascending=0)\n",
    "missing_value_azdias.plot.bar(figsize = (20,15))"
   ]
  },
  {
   "cell_type": "markdown",
   "metadata": {},
   "source": [
    "## Assesment: \n",
    "The above plot shows 3 columns have 50% or more data missing. The first 6 bars i.e. columns have more than 20% data missing and the remainder of the columns have below 20% missing data. "
   ]
  },
  {
   "cell_type": "code",
   "execution_count": 7,
   "metadata": {},
   "outputs": [
    {
     "data": {
      "text/html": [
       "<div>\n",
       "<style scoped>\n",
       "    .dataframe tbody tr th:only-of-type {\n",
       "        vertical-align: middle;\n",
       "    }\n",
       "\n",
       "    .dataframe tbody tr th {\n",
       "        vertical-align: top;\n",
       "    }\n",
       "\n",
       "    .dataframe thead th {\n",
       "        text-align: right;\n",
       "    }\n",
       "</style>\n",
       "<table border=\"1\" class=\"dataframe\">\n",
       "  <thead>\n",
       "    <tr style=\"text-align: right;\">\n",
       "      <th></th>\n",
       "      <th>column_name</th>\n",
       "      <th>count_missing</th>\n",
       "    </tr>\n",
       "  </thead>\n",
       "  <tbody>\n",
       "    <tr>\n",
       "      <th>TITEL_KZ</th>\n",
       "      <td>TITEL_KZ</td>\n",
       "      <td>889061</td>\n",
       "    </tr>\n",
       "    <tr>\n",
       "      <th>AGER_TYP</th>\n",
       "      <td>AGER_TYP</td>\n",
       "      <td>685843</td>\n",
       "    </tr>\n",
       "    <tr>\n",
       "      <th>KK_KUNDENTYP</th>\n",
       "      <td>KK_KUNDENTYP</td>\n",
       "      <td>584612</td>\n",
       "    </tr>\n",
       "    <tr>\n",
       "      <th>KBA05_BAUMAX</th>\n",
       "      <td>KBA05_BAUMAX</td>\n",
       "      <td>476524</td>\n",
       "    </tr>\n",
       "    <tr>\n",
       "      <th>GEBURTSJAHR</th>\n",
       "      <td>GEBURTSJAHR</td>\n",
       "      <td>392318</td>\n",
       "    </tr>\n",
       "    <tr>\n",
       "      <th>...</th>\n",
       "      <td>...</td>\n",
       "      <td>...</td>\n",
       "    </tr>\n",
       "    <tr>\n",
       "      <th>SEMIO_RAT</th>\n",
       "      <td>SEMIO_RAT</td>\n",
       "      <td>0</td>\n",
       "    </tr>\n",
       "    <tr>\n",
       "      <th>SEMIO_KRIT</th>\n",
       "      <td>SEMIO_KRIT</td>\n",
       "      <td>0</td>\n",
       "    </tr>\n",
       "    <tr>\n",
       "      <th>SEMIO_DOM</th>\n",
       "      <td>SEMIO_DOM</td>\n",
       "      <td>0</td>\n",
       "    </tr>\n",
       "    <tr>\n",
       "      <th>SEMIO_TRADV</th>\n",
       "      <td>SEMIO_TRADV</td>\n",
       "      <td>0</td>\n",
       "    </tr>\n",
       "    <tr>\n",
       "      <th>ZABEOTYP</th>\n",
       "      <td>ZABEOTYP</td>\n",
       "      <td>0</td>\n",
       "    </tr>\n",
       "  </tbody>\n",
       "</table>\n",
       "<p>85 rows × 2 columns</p>\n",
       "</div>"
      ],
      "text/plain": [
       "               column_name  count_missing\n",
       "TITEL_KZ          TITEL_KZ         889061\n",
       "AGER_TYP          AGER_TYP         685843\n",
       "KK_KUNDENTYP  KK_KUNDENTYP         584612\n",
       "KBA05_BAUMAX  KBA05_BAUMAX         476524\n",
       "GEBURTSJAHR    GEBURTSJAHR         392318\n",
       "...                    ...            ...\n",
       "SEMIO_RAT        SEMIO_RAT              0\n",
       "SEMIO_KRIT      SEMIO_KRIT              0\n",
       "SEMIO_DOM        SEMIO_DOM              0\n",
       "SEMIO_TRADV    SEMIO_TRADV              0\n",
       "ZABEOTYP          ZABEOTYP              0\n",
       "\n",
       "[85 rows x 2 columns]"
      ]
     },
     "execution_count": 7,
     "metadata": {},
     "output_type": "execute_result"
    }
   ],
   "source": [
    "count_missing = azdias.isnull().sum()\n",
    "missing_count_azdias = pd.DataFrame({'column_name': azdias.columns,\n",
    "                                 'count_missing': count_missing}).sort_values(by = 'count_missing', ascending=0)\n",
    "missing_count_azdias"
   ]
  },
  {
   "cell_type": "code",
   "execution_count": 8,
   "metadata": {},
   "outputs": [
    {
     "name": "stdout",
     "output_type": "stream",
     "text": [
      "6 columns have 25% or more data missing\n",
      "47 columns have more than 5% and less than 25% data missing\n"
     ]
    }
   ],
   "source": [
    "# Investigate patterns in the amount of missing data in each column.\n",
    "percent_missing_filtered25 = missing_value_azdias[percent_missing >= 25]\n",
    "percent_missing_filtered5 = missing_value_azdias[(missing_value_azdias['percent_missing'] > 5) & (missing_value_azdias['percent_missing'] < 25)]\n",
    "print('{} columns have 25% or more data missing'.format(len(percent_missing_filtered25)))\n",
    "print('{} columns have more than 5% and less than 25% data missing'.format(len(percent_missing_filtered5)))"
   ]
  },
  {
   "cell_type": "markdown",
   "metadata": {},
   "source": [
    "## Assessment: \n",
    "The first 6 columns with more than 25% missing data are good candidates for dropping from the final analysis. Since the high percentage of missing data is likely to be reported as outliers. "
   ]
  },
  {
   "cell_type": "code",
   "execution_count": 9,
   "metadata": {},
   "outputs": [
    {
     "name": "stdout",
     "output_type": "stream",
     "text": [
      "<class 'pandas.core.frame.DataFrame'>\n",
      "RangeIndex: 891221 entries, 0 to 891220\n",
      "Data columns (total 79 columns):\n",
      " #   Column                 Non-Null Count   Dtype  \n",
      "---  ------                 --------------   -----  \n",
      " 0   ALTERSKATEGORIE_GROB   888340 non-null  float64\n",
      " 1   ANREDE_KZ              891221 non-null  int64  \n",
      " 2   CJT_GESAMTTYP          886367 non-null  float64\n",
      " 3   FINANZ_MINIMALIST      891221 non-null  int64  \n",
      " 4   FINANZ_SPARER          891221 non-null  int64  \n",
      " 5   FINANZ_VORSORGER       891221 non-null  int64  \n",
      " 6   FINANZ_ANLEGER         891221 non-null  int64  \n",
      " 7   FINANZ_UNAUFFAELLIGER  891221 non-null  int64  \n",
      " 8   FINANZ_HAUSBAUER       891221 non-null  int64  \n",
      " 9   FINANZTYP              891221 non-null  int64  \n",
      " 10  GFK_URLAUBERTYP        886367 non-null  float64\n",
      " 11  GREEN_AVANTGARDE       891221 non-null  int64  \n",
      " 12  HEALTH_TYP             780025 non-null  float64\n",
      " 13  LP_LEBENSPHASE_FEIN    793589 non-null  float64\n",
      " 14  LP_LEBENSPHASE_GROB    796649 non-null  float64\n",
      " 15  LP_FAMILIE_FEIN        813429 non-null  float64\n",
      " 16  LP_FAMILIE_GROB        813429 non-null  float64\n",
      " 17  LP_STATUS_FEIN         886367 non-null  float64\n",
      " 18  LP_STATUS_GROB         886367 non-null  float64\n",
      " 19  NATIONALITAET_KZ       782906 non-null  float64\n",
      " 20  PRAEGENDE_JUGENDJAHRE  783057 non-null  float64\n",
      " 21  RETOURTYP_BK_S         886367 non-null  float64\n",
      " 22  SEMIO_SOZ              891221 non-null  int64  \n",
      " 23  SEMIO_FAM              891221 non-null  int64  \n",
      " 24  SEMIO_REL              891221 non-null  int64  \n",
      " 25  SEMIO_MAT              891221 non-null  int64  \n",
      " 26  SEMIO_VERT             891221 non-null  int64  \n",
      " 27  SEMIO_LUST             891221 non-null  int64  \n",
      " 28  SEMIO_ERL              891221 non-null  int64  \n",
      " 29  SEMIO_KULT             891221 non-null  int64  \n",
      " 30  SEMIO_RAT              891221 non-null  int64  \n",
      " 31  SEMIO_KRIT             891221 non-null  int64  \n",
      " 32  SEMIO_DOM              891221 non-null  int64  \n",
      " 33  SEMIO_KAEM             891221 non-null  int64  \n",
      " 34  SEMIO_PFLICHT          891221 non-null  int64  \n",
      " 35  SEMIO_TRADV            891221 non-null  int64  \n",
      " 36  SHOPPER_TYP            780025 non-null  float64\n",
      " 37  SOHO_KZ                817722 non-null  float64\n",
      " 38  VERS_TYP               780025 non-null  float64\n",
      " 39  ZABEOTYP               891221 non-null  int64  \n",
      " 40  ANZ_PERSONEN           817722 non-null  float64\n",
      " 41  ANZ_TITEL              817722 non-null  float64\n",
      " 42  HH_EINKOMMEN_SCORE     872873 non-null  float64\n",
      " 43  W_KEIT_KIND_HH         743233 non-null  float64\n",
      " 44  WOHNDAUER_2008         817722 non-null  float64\n",
      " 45  ANZ_HAUSHALTE_AKTIV    791610 non-null  float64\n",
      " 46  ANZ_HH_TITEL           794213 non-null  float64\n",
      " 47  GEBAEUDETYP            798073 non-null  float64\n",
      " 48  KONSUMNAEHE            817252 non-null  float64\n",
      " 49  MIN_GEBAEUDEJAHR       798073 non-null  float64\n",
      " 50  OST_WEST_KZ            798073 non-null  object \n",
      " 51  WOHNLAGE               798073 non-null  float64\n",
      " 52  CAMEO_DEUG_2015        791869 non-null  object \n",
      " 53  CAMEO_DEU_2015         791869 non-null  object \n",
      " 54  CAMEO_INTL_2015        791869 non-null  object \n",
      " 55  KBA05_ANTG1            757897 non-null  float64\n",
      " 56  KBA05_ANTG2            757897 non-null  float64\n",
      " 57  KBA05_ANTG3            757897 non-null  float64\n",
      " 58  KBA05_ANTG4            757897 non-null  float64\n",
      " 59  KBA05_GBZ              757897 non-null  float64\n",
      " 60  BALLRAUM               797481 non-null  float64\n",
      " 61  EWDICHTE               797481 non-null  float64\n",
      " 62  INNENSTADT             797481 non-null  float64\n",
      " 63  GEBAEUDETYP_RASTER     798066 non-null  float64\n",
      " 64  KKK                    733157 non-null  float64\n",
      " 65  MOBI_REGIO             757897 non-null  float64\n",
      " 66  ONLINE_AFFINITAET      886367 non-null  float64\n",
      " 67  REGIOTYP               733157 non-null  float64\n",
      " 68  KBA13_ANZAHL_PKW       785421 non-null  float64\n",
      " 69  PLZ8_ANTG1             774706 non-null  float64\n",
      " 70  PLZ8_ANTG2             774706 non-null  float64\n",
      " 71  PLZ8_ANTG3             774706 non-null  float64\n",
      " 72  PLZ8_ANTG4             774706 non-null  float64\n",
      " 73  PLZ8_BAUMAX            774706 non-null  float64\n",
      " 74  PLZ8_HHZ               774706 non-null  float64\n",
      " 75  PLZ8_GBZ               774706 non-null  float64\n",
      " 76  ARBEIT                 793846 non-null  float64\n",
      " 77  ORTSGR_KLS9            793947 non-null  float64\n",
      " 78  RELAT_AB               793846 non-null  float64\n",
      "dtypes: float64(51), int64(24), object(4)\n",
      "memory usage: 537.2+ MB\n"
     ]
    }
   ],
   "source": [
    "# Remove the outlier columns from the dataset. (You'll perform other data\n",
    "# engineering tasks such as re-encoding and imputation later.)\n",
    "drop_columns = missing_value_azdias.loc[missing_value_azdias['percent_missing'] > 25, 'column_name']\n",
    "drop_columns.index\n",
    "azdias.drop(drop_columns, axis='columns', inplace=True)\n",
    "azdias.info()         "
   ]
  },
  {
   "cell_type": "markdown",
   "metadata": {},
   "source": [
    "#### Discussion 1.1.2: Assess Missing Data in Each Column\n",
    " - All the columns with missing data were plotted on a bar plot with values sorted in descending order of percent missing values.\n",
    " - 6 columns with more than 25% missing values. These were deemed as good candidates to be dropped from the final analysis. The outliers are most likely to read as missing data. \n",
    " - List of dropped columns : 'TITEL_KZ', 'AGER_TYP', 'KK_KUNDENTYP', 'KBA05_BAUMAX', 'GEBURTSJAHR','ALTER_HH'"
   ]
  },
  {
   "cell_type": "markdown",
   "metadata": {},
   "source": [
    "#### Step 1.1.3: Assess Missing Data in Each Row\n",
    "\n",
    "Now, you'll perform a similar assessment for the rows of the dataset. How much data is missing in each row? As with the columns, you should see some groups of points that have a very different numbers of missing values. Divide the data into two subsets: one for data points that are above some threshold for missing values, and a second subset for points below that threshold.\n",
    "\n",
    "In order to know what to do with the outlier rows, we should see if the distribution of data values on columns that are not missing data (or are missing very little data) are similar or different between the two groups. Select at least five of these columns and compare the distribution of values.\n",
    "\n",
    "You can use seaborn's countplot() function to create a bar chart of code frequencies and matplotlib's subplot() function to put bar charts for the two subplots side by side.\n",
    "To reduce repeated code, you might want to write a function that can perform this comparison, taking as one of its arguments a column to be compared.\n",
    "Depending on what you observe in your comparison, this will have implications on how you approach your conclusions later in the analysis. If the distributions of non-missing features look similar between the data with many missing values and the data with few or no missing values, then we could argue that simply dropping those points from the analysis won't present a major issue. On the other hand, if the data with many missing values looks very different from the data with few or no missing values, then we should make a note on those data as special. We'll revisit these data later on. Either way, you should continue your analysis for now using just the subset of the data with few or no missing values."
   ]
  },
  {
   "cell_type": "code",
   "execution_count": 10,
   "metadata": {},
   "outputs": [
    {
     "name": "stdout",
     "output_type": "stream",
     "text": [
      "The total number of rows in azdias data set is 891221\n",
      "There are 268012 rows containing one or more missing value\n",
      "Which means 30 % rows have missing data\n"
     ]
    }
   ],
   "source": [
    "# How much data is missing in each row of the dataset?\n",
    "print('The total number of rows in azdias data set is {}'.format(azdias.shape[0]))\n",
    "print('There are {} rows containing one or more missing value'.format(sum(azdias.isnull().any(axis=1))))\n",
    "print('Which means {} % rows have missing data'.format(round((sum(azdias.isnull().any(axis=1))/(azdias.shape[0]))*100),3))"
   ]
  },
  {
   "cell_type": "code",
   "execution_count": 11,
   "metadata": {},
   "outputs": [
    {
     "data": {
      "text/plain": [
       "<AxesSubplot:ylabel='count'>"
      ]
     },
     "execution_count": 11,
     "metadata": {},
     "output_type": "execute_result"
    },
    {
     "data": {
      "image/png": "[encoded data removed]",
      "text/plain": [
       "<Figure size 432x288 with 1 Axes>"
      ]
     },
     "metadata": {
      "needs_background": "light"
     },
     "output_type": "display_data"
    }
   ],
   "source": [
    "# Write code to divide the data into two subsets based on the number of missing\n",
    "# values in each row.\n",
    "a = azdias.isnull().transpose().sum()\n",
    "azdias_rows_missing_low = azdias[a<20]\n",
    "azdias_rows_missing_high = azdias[a>=20]\n",
    "count_azdias_rows_missing_low = azdias_rows_missing_low.isnull().transpose().sum()\n",
    "count_azdias_rows_missing_high = azdias_rows_missing_high.isnull().transpose().sum()\n",
    "sns.countplot(count_azdias_rows_missing_low)"
   ]
  },
  {
   "cell_type": "code",
   "execution_count": 12,
   "metadata": {},
   "outputs": [
    {
     "data": {
      "text/plain": [
       "<AxesSubplot:ylabel='count'>"
      ]
     },
     "execution_count": 12,
     "metadata": {},
     "output_type": "execute_result"
    },
    {
     "data": {
      "image/png": "[encoded data removed]",
      "text/plain": [
       "<Figure size 432x288 with 1 Axes>"
      ]
     },
     "metadata": {
      "needs_background": "light"
     },
     "output_type": "display_data"
    }
   ],
   "source": [
    "sns.countplot(count_azdias_rows_missing_high)"
   ]
  },
  {
   "cell_type": "code",
   "execution_count": 13,
   "metadata": {},
   "outputs": [
    {
     "data": {
      "text/plain": [
       "(94144,)"
      ]
     },
     "execution_count": 13,
     "metadata": {},
     "output_type": "execute_result"
    }
   ],
   "source": [
    "count_azdias_rows_missing_high.shape"
   ]
  },
  {
   "cell_type": "code",
   "execution_count": 14,
   "metadata": {},
   "outputs": [
    {
     "data": {
      "image/png": "[encoded data removed]",
      "text/plain": [
       "<Figure size 1440x2160 with 16 Axes>"
      ]
     },
     "metadata": {
      "needs_background": "light"
     },
     "output_type": "display_data"
    }
   ],
   "source": [
    "# Compare the distribution of values for at least five columns where there are\n",
    "# no or few missing values, between the two subsets.\n",
    "fig, axes = plt.subplots(nrows=8, ncols=2, figsize=(20,30))\n",
    "n = 0\n",
    "for i in azdias.columns[0:8]:\n",
    "    sns.countplot(azdias_rows_missing_low.loc[:,i], ax = axes[n,0])\n",
    "    sns.countplot(azdias_rows_missing_low.loc[:,i], ax = axes[n,1])\n",
    "    \n",
    "    axes[n,0].set_title('Low group i.e. < 20 missing column values per row')\n",
    "    axes[n,1].set_title('High group i.e. > = 20 missing column values per row')\n",
    "\n",
    "    n = n+1"
   ]
  },
  {
   "cell_type": "code",
   "execution_count": 15,
   "metadata": {},
   "outputs": [
    {
     "data": {
      "text/html": [
       "<div>\n",
       "<style scoped>\n",
       "    .dataframe tbody tr th:only-of-type {\n",
       "        vertical-align: middle;\n",
       "    }\n",
       "\n",
       "    .dataframe tbody tr th {\n",
       "        vertical-align: top;\n",
       "    }\n",
       "\n",
       "    .dataframe thead th {\n",
       "        text-align: right;\n",
       "    }\n",
       "</style>\n",
       "<table border=\"1\" class=\"dataframe\">\n",
       "  <thead>\n",
       "    <tr style=\"text-align: right;\">\n",
       "      <th></th>\n",
       "      <th>ALTERSKATEGORIE_GROB</th>\n",
       "      <th>ANREDE_KZ</th>\n",
       "      <th>CJT_GESAMTTYP</th>\n",
       "      <th>FINANZ_MINIMALIST</th>\n",
       "      <th>FINANZ_SPARER</th>\n",
       "      <th>FINANZ_VORSORGER</th>\n",
       "      <th>FINANZ_ANLEGER</th>\n",
       "      <th>FINANZ_UNAUFFAELLIGER</th>\n",
       "      <th>FINANZ_HAUSBAUER</th>\n",
       "      <th>FINANZTYP</th>\n",
       "      <th>...</th>\n",
       "      <th>PLZ8_ANTG1</th>\n",
       "      <th>PLZ8_ANTG2</th>\n",
       "      <th>PLZ8_ANTG3</th>\n",
       "      <th>PLZ8_ANTG4</th>\n",
       "      <th>PLZ8_BAUMAX</th>\n",
       "      <th>PLZ8_HHZ</th>\n",
       "      <th>PLZ8_GBZ</th>\n",
       "      <th>ARBEIT</th>\n",
       "      <th>ORTSGR_KLS9</th>\n",
       "      <th>RELAT_AB</th>\n",
       "    </tr>\n",
       "  </thead>\n",
       "  <tbody>\n",
       "    <tr>\n",
       "      <th>1</th>\n",
       "      <td>1.0</td>\n",
       "      <td>2</td>\n",
       "      <td>5.0</td>\n",
       "      <td>1</td>\n",
       "      <td>5</td>\n",
       "      <td>2</td>\n",
       "      <td>5</td>\n",
       "      <td>4</td>\n",
       "      <td>5</td>\n",
       "      <td>1</td>\n",
       "      <td>...</td>\n",
       "      <td>2.0</td>\n",
       "      <td>3.0</td>\n",
       "      <td>2.0</td>\n",
       "      <td>1.0</td>\n",
       "      <td>1.0</td>\n",
       "      <td>5.0</td>\n",
       "      <td>4.0</td>\n",
       "      <td>3.0</td>\n",
       "      <td>5.0</td>\n",
       "      <td>4.0</td>\n",
       "    </tr>\n",
       "    <tr>\n",
       "      <th>2</th>\n",
       "      <td>3.0</td>\n",
       "      <td>2</td>\n",
       "      <td>3.0</td>\n",
       "      <td>1</td>\n",
       "      <td>4</td>\n",
       "      <td>1</td>\n",
       "      <td>2</td>\n",
       "      <td>3</td>\n",
       "      <td>5</td>\n",
       "      <td>1</td>\n",
       "      <td>...</td>\n",
       "      <td>3.0</td>\n",
       "      <td>3.0</td>\n",
       "      <td>1.0</td>\n",
       "      <td>0.0</td>\n",
       "      <td>1.0</td>\n",
       "      <td>4.0</td>\n",
       "      <td>4.0</td>\n",
       "      <td>3.0</td>\n",
       "      <td>5.0</td>\n",
       "      <td>2.0</td>\n",
       "    </tr>\n",
       "    <tr>\n",
       "      <th>3</th>\n",
       "      <td>4.0</td>\n",
       "      <td>2</td>\n",
       "      <td>2.0</td>\n",
       "      <td>4</td>\n",
       "      <td>2</td>\n",
       "      <td>5</td>\n",
       "      <td>2</td>\n",
       "      <td>1</td>\n",
       "      <td>2</td>\n",
       "      <td>6</td>\n",
       "      <td>...</td>\n",
       "      <td>2.0</td>\n",
       "      <td>2.0</td>\n",
       "      <td>2.0</td>\n",
       "      <td>0.0</td>\n",
       "      <td>1.0</td>\n",
       "      <td>3.0</td>\n",
       "      <td>4.0</td>\n",
       "      <td>2.0</td>\n",
       "      <td>3.0</td>\n",
       "      <td>3.0</td>\n",
       "    </tr>\n",
       "    <tr>\n",
       "      <th>4</th>\n",
       "      <td>3.0</td>\n",
       "      <td>1</td>\n",
       "      <td>5.0</td>\n",
       "      <td>4</td>\n",
       "      <td>3</td>\n",
       "      <td>4</td>\n",
       "      <td>1</td>\n",
       "      <td>3</td>\n",
       "      <td>2</td>\n",
       "      <td>5</td>\n",
       "      <td>...</td>\n",
       "      <td>2.0</td>\n",
       "      <td>4.0</td>\n",
       "      <td>2.0</td>\n",
       "      <td>1.0</td>\n",
       "      <td>2.0</td>\n",
       "      <td>3.0</td>\n",
       "      <td>3.0</td>\n",
       "      <td>4.0</td>\n",
       "      <td>6.0</td>\n",
       "      <td>5.0</td>\n",
       "    </tr>\n",
       "    <tr>\n",
       "      <th>5</th>\n",
       "      <td>1.0</td>\n",
       "      <td>2</td>\n",
       "      <td>2.0</td>\n",
       "      <td>3</td>\n",
       "      <td>1</td>\n",
       "      <td>5</td>\n",
       "      <td>2</td>\n",
       "      <td>2</td>\n",
       "      <td>5</td>\n",
       "      <td>2</td>\n",
       "      <td>...</td>\n",
       "      <td>2.0</td>\n",
       "      <td>3.0</td>\n",
       "      <td>1.0</td>\n",
       "      <td>1.0</td>\n",
       "      <td>1.0</td>\n",
       "      <td>5.0</td>\n",
       "      <td>5.0</td>\n",
       "      <td>2.0</td>\n",
       "      <td>3.0</td>\n",
       "      <td>3.0</td>\n",
       "    </tr>\n",
       "  </tbody>\n",
       "</table>\n",
       "<p>5 rows × 79 columns</p>\n",
       "</div>"
      ],
      "text/plain": [
       "   ALTERSKATEGORIE_GROB  ANREDE_KZ  CJT_GESAMTTYP  FINANZ_MINIMALIST  \\\n",
       "1                   1.0          2            5.0                  1   \n",
       "2                   3.0          2            3.0                  1   \n",
       "3                   4.0          2            2.0                  4   \n",
       "4                   3.0          1            5.0                  4   \n",
       "5                   1.0          2            2.0                  3   \n",
       "\n",
       "   FINANZ_SPARER  FINANZ_VORSORGER  FINANZ_ANLEGER  FINANZ_UNAUFFAELLIGER  \\\n",
       "1              5                 2               5                      4   \n",
       "2              4                 1               2                      3   \n",
       "3              2                 5               2                      1   \n",
       "4              3                 4               1                      3   \n",
       "5              1                 5               2                      2   \n",
       "\n",
       "   FINANZ_HAUSBAUER  FINANZTYP  ...  PLZ8_ANTG1  PLZ8_ANTG2  PLZ8_ANTG3  \\\n",
       "1                 5          1  ...         2.0         3.0         2.0   \n",
       "2                 5          1  ...         3.0         3.0         1.0   \n",
       "3                 2          6  ...         2.0         2.0         2.0   \n",
       "4                 2          5  ...         2.0         4.0         2.0   \n",
       "5                 5          2  ...         2.0         3.0         1.0   \n",
       "\n",
       "   PLZ8_ANTG4  PLZ8_BAUMAX  PLZ8_HHZ  PLZ8_GBZ  ARBEIT  ORTSGR_KLS9  RELAT_AB  \n",
       "1         1.0          1.0       5.0       4.0     3.0          5.0       4.0  \n",
       "2         0.0          1.0       4.0       4.0     3.0          5.0       2.0  \n",
       "3         0.0          1.0       3.0       4.0     2.0          3.0       3.0  \n",
       "4         1.0          2.0       3.0       3.0     4.0          6.0       5.0  \n",
       "5         1.0          1.0       5.0       5.0     2.0          3.0       3.0  \n",
       "\n",
       "[5 rows x 79 columns]"
      ]
     },
     "execution_count": 15,
     "metadata": {},
     "output_type": "execute_result"
    }
   ],
   "source": [
    "azdias_rows_missing_low.head()"
   ]
  },
  {
   "cell_type": "code",
   "execution_count": 16,
   "metadata": {},
   "outputs": [
    {
     "data": {
      "text/plain": [
       "(797077, 79)"
      ]
     },
     "execution_count": 16,
     "metadata": {},
     "output_type": "execute_result"
    }
   ],
   "source": [
    "azdias_rows_missing_low.shape"
   ]
  },
  {
   "cell_type": "markdown",
   "metadata": {},
   "source": [
    "#### Discussion 1.1.3: Assess Missing Data in Each Row\n",
    "##### Missing Data\n",
    "- 30% of the rows (268012 out of the total 891221) are missing data.\n",
    "##### Handling missing data\n",
    "- All rows with missing data  will be dropped which is about 30%\n",
    "- All the rows with more than 20 missing values will be dropped which about 10% of the data.\n",
    "- Impute missing values in the rows with mean. \n",
    "\n",
    "\n"
   ]
  },
  {
   "cell_type": "markdown",
   "metadata": {},
   "source": [
    "### Step 1.2: Select and Re-Encode Features\n",
    "\n",
    "Checking for missing data isn't the only way in which you can prepare a dataset for analysis. Since the unsupervised learning techniques to be used will only work on data that is encoded numerically, you need to make a few encoding changes or additional assumptions to be able to make progress. In addition, while almost all of the values in the dataset are encoded using numbers, not all of them represent numeric values. Check the third column of the feature summary (`feat_info`) for a summary of types of measurement.\n",
    "- For numeric and interval data, these features can be kept without changes.\n",
    "- Most of the variables in the dataset are ordinal in nature. While ordinal values may technically be non-linear in spacing, make the simplifying assumption that the ordinal variables can be treated as being interval in nature (that is, kept without any changes).\n",
    "- Special handling may be necessary for the remaining two variable types: categorical, and 'mixed'.\n",
    "\n",
    "In the first two parts of this sub-step, you will perform an investigation of the categorical and mixed-type features and make a decision on each of them, whether you will keep, drop, or re-encode each. Then, in the last part, you will create a new data frame with only the selected and engineered columns.\n",
    "\n",
    "Data wrangling is often the trickiest part of the data analysis process, and there's a lot of it to be done here. But stick with it: once you're done with this step, you'll be ready to get to the machine learning parts of the project!"
   ]
  },
  {
   "cell_type": "markdown",
   "metadata": {},
   "source": [
    "#### Step 1.2.1: Re-Encode Categorical Features\n",
    "\n",
    "For categorical data, you would ordinarily need to encode the levels as dummy variables. Depending on the number of categories, perform one of the following:\n",
    "- For binary (two-level) categoricals that take numeric values require no change\n",
    "- There is one binary variable that takes on non-numeric values. For this one, you need to re-encode the values as numerical values.\n",
    "- For multi-level categoricals (three or more values) can be encoded as numerical values or dummy values."
   ]
  },
  {
   "cell_type": "code",
   "execution_count": 17,
   "metadata": {},
   "outputs": [
    {
     "data": {
      "text/html": [
       "<div>\n",
       "<style scoped>\n",
       "    .dataframe tbody tr th:only-of-type {\n",
       "        vertical-align: middle;\n",
       "    }\n",
       "\n",
       "    .dataframe tbody tr th {\n",
       "        vertical-align: top;\n",
       "    }\n",
       "\n",
       "    .dataframe thead th {\n",
       "        text-align: right;\n",
       "    }\n",
       "</style>\n",
       "<table border=\"1\" class=\"dataframe\">\n",
       "  <thead>\n",
       "    <tr style=\"text-align: right;\">\n",
       "      <th></th>\n",
       "      <th>attribute</th>\n",
       "      <th>information_level</th>\n",
       "      <th>missing_or_unknown</th>\n",
       "    </tr>\n",
       "    <tr>\n",
       "      <th>type</th>\n",
       "      <th></th>\n",
       "      <th></th>\n",
       "      <th></th>\n",
       "    </tr>\n",
       "  </thead>\n",
       "  <tbody>\n",
       "    <tr>\n",
       "      <th>categorical</th>\n",
       "      <td>21</td>\n",
       "      <td>21</td>\n",
       "      <td>21</td>\n",
       "    </tr>\n",
       "    <tr>\n",
       "      <th>interval</th>\n",
       "      <td>1</td>\n",
       "      <td>1</td>\n",
       "      <td>1</td>\n",
       "    </tr>\n",
       "    <tr>\n",
       "      <th>mixed</th>\n",
       "      <td>7</td>\n",
       "      <td>7</td>\n",
       "      <td>7</td>\n",
       "    </tr>\n",
       "    <tr>\n",
       "      <th>numeric</th>\n",
       "      <td>7</td>\n",
       "      <td>7</td>\n",
       "      <td>7</td>\n",
       "    </tr>\n",
       "    <tr>\n",
       "      <th>ordinal</th>\n",
       "      <td>49</td>\n",
       "      <td>49</td>\n",
       "      <td>49</td>\n",
       "    </tr>\n",
       "  </tbody>\n",
       "</table>\n",
       "</div>"
      ],
      "text/plain": [
       "             attribute  information_level  missing_or_unknown\n",
       "type                                                         \n",
       "categorical         21                 21                  21\n",
       "interval             1                  1                   1\n",
       "mixed                7                  7                   7\n",
       "numeric              7                  7                   7\n",
       "ordinal             49                 49                  49"
      ]
     },
     "execution_count": 17,
     "metadata": {},
     "output_type": "execute_result"
    }
   ],
   "source": [
    "# How many features are there of each data type?\n",
    "feat_info.groupby('type').count()"
   ]
  },
  {
   "cell_type": "code",
   "execution_count": 18,
   "metadata": {},
   "outputs": [
    {
     "data": {
      "text/plain": [
       "ANREDE_KZ            2\n",
       "CJT_GESAMTTYP        6\n",
       "FINANZTYP            6\n",
       "GFK_URLAUBERTYP     12\n",
       "GREEN_AVANTGARDE     2\n",
       "LP_FAMILIE_FEIN     11\n",
       "LP_FAMILIE_GROB      5\n",
       "LP_STATUS_FEIN      10\n",
       "LP_STATUS_GROB       5\n",
       "NATIONALITAET_KZ     3\n",
       "SHOPPER_TYP          4\n",
       "SOHO_KZ              2\n",
       "VERS_TYP             2\n",
       "ZABEOTYP             6\n",
       "GEBAEUDETYP          7\n",
       "OST_WEST_KZ          2\n",
       "CAMEO_DEUG_2015      9\n",
       "CAMEO_DEU_2015      44\n",
       "dtype: int64"
      ]
     },
     "execution_count": 18,
     "metadata": {},
     "output_type": "execute_result"
    }
   ],
   "source": [
    "# finding all the categorical features using feat_info\n",
    "#then identifying the binary and the multieleve categorical features\n",
    "\n",
    "cat = feat_info[feat_info['type'] == 'categorical']['attribute'].values\n",
    "cat = [x for x in cat if x in azdias.columns] # only the ones that are kept in azdias dataset\n",
    "cat_binary = [x for x in cat if azdias[x].nunique()==2]\n",
    "cat_multi = [x for x in cat if azdias[x].nunique()>2]\n",
    "azdias[cat].nunique()"
   ]
  },
  {
   "cell_type": "code",
   "execution_count": 19,
   "metadata": {},
   "outputs": [
    {
     "data": {
      "text/plain": [
       "['ANREDE_KZ', 'GREEN_AVANTGARDE', 'SOHO_KZ', 'VERS_TYP', 'OST_WEST_KZ']"
      ]
     },
     "execution_count": 19,
     "metadata": {},
     "output_type": "execute_result"
    }
   ],
   "source": [
    "# list of binary features\n",
    "cat_binary"
   ]
  },
  {
   "cell_type": "code",
   "execution_count": 20,
   "metadata": {},
   "outputs": [
    {
     "name": "stdout",
     "output_type": "stream",
     "text": [
      "ANREDE_KZ [2 1]\n",
      "GREEN_AVANTGARDE [0 1]\n",
      "SOHO_KZ [1. 0.]\n",
      "VERS_TYP [ 2.  1. nan]\n",
      "OST_WEST_KZ ['W' 'O']\n"
     ]
    }
   ],
   "source": [
    "# locating the non numeric binary feature\n",
    "for a in cat_binary: \n",
    "    print (a, azdias_rows_missing_low[a].unique())"
   ]
  },
  {
   "cell_type": "code",
   "execution_count": 21,
   "metadata": {},
   "outputs": [],
   "source": [
    "# replacing the non numeric binary feature values with binary values in feature OST_WEST_KZ\n",
    "azdias_rows_missing_low.loc[:, 'OST_WEST_KZ'].replace({'W':0, 'O':1}, inplace=True);"
   ]
  },
  {
   "cell_type": "code",
   "execution_count": 22,
   "metadata": {},
   "outputs": [],
   "source": [
    "#removing the categorical column with 44 features from the analysis\n",
    "cat_multi.remove('CAMEO_DEU_2015')\n",
    "azdias_rows_missing_low.drop('CAMEO_DEU_2015', axis=1, inplace=True)"
   ]
  },
  {
   "cell_type": "code",
   "execution_count": 23,
   "metadata": {},
   "outputs": [
    {
     "data": {
      "text/plain": [
       "78"
      ]
     },
     "execution_count": 23,
     "metadata": {},
     "output_type": "execute_result"
    }
   ],
   "source": [
    "# checking the number of columns after dropping the one in the above step\n",
    "azdias_rows_missing_low.shape[1]"
   ]
  },
  {
   "cell_type": "code",
   "execution_count": 24,
   "metadata": {},
   "outputs": [
    {
     "data": {
      "text/plain": [
       "['CJT_GESAMTTYP',\n",
       " 'FINANZTYP',\n",
       " 'GFK_URLAUBERTYP',\n",
       " 'LP_FAMILIE_FEIN',\n",
       " 'LP_FAMILIE_GROB',\n",
       " 'LP_STATUS_FEIN',\n",
       " 'LP_STATUS_GROB',\n",
       " 'NATIONALITAET_KZ',\n",
       " 'SHOPPER_TYP',\n",
       " 'ZABEOTYP',\n",
       " 'GEBAEUDETYP',\n",
       " 'CAMEO_DEUG_2015']"
      ]
     },
     "execution_count": 24,
     "metadata": {},
     "output_type": "execute_result"
    }
   ],
   "source": [
    "cat_multi"
   ]
  },
  {
   "cell_type": "code",
   "execution_count": 25,
   "metadata": {},
   "outputs": [],
   "source": [
    "# for multi level categorical variables, first filter the rows with no nan values\n",
    "#then loop over each column in the cat_multi variable to first one hot encode th dummy variables, then join the new dummy colmns\n",
    "#to the original data followed by dropping the original column itself from the azdias_rows_missing_low dataset\n",
    "for y in cat_multi:\n",
    "    temp_data = azdias_rows_missing_low[y][azdias_rows_missing_low[y].notnull()]\n",
    "    ohe_data = pd.get_dummies(temp_data, prefix = y)\n",
    "    azdias_rows_missing_low =azdias_rows_missing_low.join(ohe_data)\n",
    "    azdias_rows_missing_low.drop([y], axis = 1, inplace = True)"
   ]
  },
  {
   "cell_type": "code",
   "execution_count": 26,
   "metadata": {},
   "outputs": [
    {
     "data": {
      "text/plain": [
       "(797077, 150)"
      ]
     },
     "execution_count": 26,
     "metadata": {},
     "output_type": "execute_result"
    }
   ],
   "source": [
    "azdias_rows_missing_low.shape"
   ]
  },
  {
   "cell_type": "code",
   "execution_count": 27,
   "metadata": {},
   "outputs": [
    {
     "name": "stdout",
     "output_type": "stream",
     "text": [
      "<class 'pandas.core.frame.DataFrame'>\n",
      "Int64Index: 797077 entries, 1 to 891220\n",
      "Columns: 150 entries, ALTERSKATEGORIE_GROB to CAMEO_DEUG_2015_9\n",
      "dtypes: float64(107), int64(23), object(1), uint8(19)\n",
      "memory usage: 833.3+ MB\n"
     ]
    }
   ],
   "source": [
    "azdias_rows_missing_low.info()"
   ]
  },
  {
   "cell_type": "markdown",
   "metadata": {},
   "source": [
    "#### Discussion 1.2.1: Re-Encode Categorical Features\n",
    "\n",
    "- For the binary categorical features: \n",
    "    - the feature with non numeric binary values was identified and non numeric values were replaced with numeric values\n",
    "- For multi level categorical features:\n",
    "    - The feature with 44 variable values was dropped from the dataset (and the analysis)\n",
    "    - For remainder of the multi level features, one hot encoding was done to prepare these for analysis. "
   ]
  },
  {
   "cell_type": "markdown",
   "metadata": {},
   "source": [
    "Step 1.2.2: Engineer Mixed-Type Features\n",
    "There are a handful of features that are marked as \"mixed\" in the feature summary that require special treatment in order to be included in the analysis. There are two in particular that deserve attention; the handling of the rest are up to your own choices:\n",
    "\n",
    "\"PRAEGENDE_JUGENDJAHRE\" combines information on three dimensions: generation by decade, movement (mainstream vs. avantgarde), and nation (east vs. west). While there aren't enough levels to disentangle east from west, you should create two new variables to capture the other two dimensions: an interval-type variable for decade, and a binary variable for movement.\n",
    "\"CAMEO_INTL_2015\" combines information on two axes: wealth and life stage. Break up the two-digit codes by their 'tens'-place and 'ones'-place digits into two new ordinal variables (which, for the purposes of this project, is equivalent to just treating them as their raw numeric values).\n",
    "If you decide to keep or engineer new features around the other mixed-type features, make sure you note your steps in the Discussion section.\n",
    "Be sure to check Data_Dictionary.md for the details needed to finish these tasks."
   ]
  },
  {
   "cell_type": "code",
   "execution_count": 28,
   "metadata": {},
   "outputs": [
    {
     "data": {
      "text/html": [
       "<div>\n",
       "<style scoped>\n",
       "    .dataframe tbody tr th:only-of-type {\n",
       "        vertical-align: middle;\n",
       "    }\n",
       "\n",
       "    .dataframe tbody tr th {\n",
       "        vertical-align: top;\n",
       "    }\n",
       "\n",
       "    .dataframe thead th {\n",
       "        text-align: right;\n",
       "    }\n",
       "</style>\n",
       "<table border=\"1\" class=\"dataframe\">\n",
       "  <thead>\n",
       "    <tr style=\"text-align: right;\">\n",
       "      <th></th>\n",
       "      <th>PRAEGENDE_JUGENDJAHRE</th>\n",
       "    </tr>\n",
       "  </thead>\n",
       "  <tbody>\n",
       "    <tr>\n",
       "      <th>count</th>\n",
       "      <td>768753.000000</td>\n",
       "    </tr>\n",
       "    <tr>\n",
       "      <th>mean</th>\n",
       "      <td>9.279761</td>\n",
       "    </tr>\n",
       "    <tr>\n",
       "      <th>std</th>\n",
       "      <td>4.025921</td>\n",
       "    </tr>\n",
       "    <tr>\n",
       "      <th>min</th>\n",
       "      <td>1.000000</td>\n",
       "    </tr>\n",
       "    <tr>\n",
       "      <th>25%</th>\n",
       "      <td>6.000000</td>\n",
       "    </tr>\n",
       "    <tr>\n",
       "      <th>50%</th>\n",
       "      <td>9.000000</td>\n",
       "    </tr>\n",
       "    <tr>\n",
       "      <th>75%</th>\n",
       "      <td>14.000000</td>\n",
       "    </tr>\n",
       "    <tr>\n",
       "      <th>max</th>\n",
       "      <td>15.000000</td>\n",
       "    </tr>\n",
       "  </tbody>\n",
       "</table>\n",
       "</div>"
      ],
      "text/plain": [
       "       PRAEGENDE_JUGENDJAHRE\n",
       "count          768753.000000\n",
       "mean                9.279761\n",
       "std                 4.025921\n",
       "min                 1.000000\n",
       "25%                 6.000000\n",
       "50%                 9.000000\n",
       "75%                14.000000\n",
       "max                15.000000"
      ]
     },
     "execution_count": 28,
     "metadata": {},
     "output_type": "execute_result"
    }
   ],
   "source": [
    "# Investigate \"PRAEGENDE_JUGENDJAHRE\" and engineer two new variables.\n",
    "azdias_rows_missing_low[['PRAEGENDE_JUGENDJAHRE']].describe()"
   ]
  },
  {
   "cell_type": "code",
   "execution_count": 29,
   "metadata": {},
   "outputs": [],
   "source": [
    "# creating movement capturing variable for PRAEGENDE_JUGENDJAHRE\n",
    "mainstream = [1,3,5,8,10,12,14]  # mainstream values as indicated in Data_Dictionary.md\n",
    "avantgarde = [2,4,5,7,9,11,13,15]  # avantgarde values as indicated in Data_Dictionary.md\n",
    "\n",
    "def movement(z):\n",
    "    if z in mainstream:\n",
    "        return 1\n",
    "    if z in avantgarde:\n",
    "        return 0\n",
    "    else:\n",
    "        return z\n",
    "azdias_rows_missing_low['PRAEGENDE_JUGENDJAHRE_MOVEMENT'] = azdias_rows_missing_low['PRAEGENDE_JUGENDJAHRE'].apply(movement)"
   ]
  },
  {
   "cell_type": "code",
   "execution_count": 30,
   "metadata": {},
   "outputs": [],
   "source": [
    "#creating varaible to capture generation by decade\n",
    "a = [1, 2, 3, 4, 5, 6, 7, 8, 9, 10, 11, 12, 13, 14, 15] \n",
    "b = [40, 40, 50, 50, 60, 60, 60, 70, 70, 80, 80, 80, 80, 90, 90] #VARIABLES a and b contain the index ad the decade value maaped \n",
    "                                                                #to the index per Data_Dictionary.md\n",
    "\n",
    "gen_by_decade = pd.Series(b, index = a)\n",
    "azdias_rows_missing_low['PRAEGENDE_JUGENDJAHRE_GEN_BY_DECADE'] = azdias_rows_missing_low['PRAEGENDE_JUGENDJAHRE'].map(gen_by_decade)"
   ]
  },
  {
   "cell_type": "code",
   "execution_count": 31,
   "metadata": {},
   "outputs": [
    {
     "data": {
      "text/plain": [
       "1    51\n",
       "2    24\n",
       "3    12\n",
       "4    43\n",
       "5    54\n",
       "Name: CAMEO_INTL_2015, dtype: object"
      ]
     },
     "execution_count": 31,
     "metadata": {},
     "output_type": "execute_result"
    }
   ],
   "source": [
    "# Investigate \"CAMEO_INTL_2015\" and engineer two new variables.\n",
    "azdias_rows_missing_low['CAMEO_INTL_2015'].head()"
   ]
  },
  {
   "cell_type": "code",
   "execution_count": 32,
   "metadata": {},
   "outputs": [],
   "source": [
    "azdias_rows_missing_low['CAMEO_INTL_2015_wealth'] = azdias_rows_missing_low['CAMEO_INTL_2015'].str[0] # extract tens place digit and put it in the new column\n",
    "azdias_rows_missing_low['CAMEO_INTL_2015_lifestage'] = azdias_rows_missing_low['CAMEO_INTL_2015'].str[1] # extract ones place digit"
   ]
  },
  {
   "cell_type": "code",
   "execution_count": 33,
   "metadata": {},
   "outputs": [
    {
     "data": {
      "text/plain": [
       "1    5\n",
       "2    2\n",
       "3    1\n",
       "4    4\n",
       "5    5\n",
       "Name: CAMEO_INTL_2015_wealth, dtype: object"
      ]
     },
     "execution_count": 33,
     "metadata": {},
     "output_type": "execute_result"
    }
   ],
   "source": [
    "azdias_rows_missing_low['CAMEO_INTL_2015_wealth'].head() # checking work"
   ]
  },
  {
   "cell_type": "code",
   "execution_count": 34,
   "metadata": {},
   "outputs": [
    {
     "data": {
      "text/plain": [
       "['LP_LEBENSPHASE_FEIN',\n",
       " 'LP_LEBENSPHASE_GROB',\n",
       " 'PRAEGENDE_JUGENDJAHRE',\n",
       " 'WOHNLAGE',\n",
       " 'CAMEO_INTL_2015',\n",
       " 'PLZ8_BAUMAX']"
      ]
     },
     "execution_count": 34,
     "metadata": {},
     "output_type": "execute_result"
    }
   ],
   "source": [
    "# Drop remainder of the mixed type columns from data\n",
    "drop_columns2 = []\n",
    "for attribute in feat_info[feat_info['type']=='mixed'].attribute:\n",
    "    drop_columns2.append(attribute)\n",
    "drop_columns2.remove('KBA05_BAUMAX') # KBA05_BAUMAX was removed previously in section 1.1.2\n",
    "drop_columns2"
   ]
  },
  {
   "cell_type": "code",
   "execution_count": 35,
   "metadata": {},
   "outputs": [
    {
     "name": "stdout",
     "output_type": "stream",
     "text": [
      "<class 'pandas.core.frame.DataFrame'>\n",
      "Int64Index: 797077 entries, 1 to 891220\n",
      "Columns: 148 entries, ALTERSKATEGORIE_GROB to CAMEO_INTL_2015_lifestage\n",
      "dtypes: float64(104), int64(23), object(2), uint8(19)\n",
      "memory usage: 821.1+ MB\n"
     ]
    }
   ],
   "source": [
    "azdias_rows_missing_low.drop(drop_columns2, axis='columns', inplace=True)\n",
    "azdias_rows_missing_low.info()"
   ]
  },
  {
   "cell_type": "code",
   "execution_count": 36,
   "metadata": {},
   "outputs": [
    {
     "data": {
      "text/plain": [
       "TITEL_KZ            TITEL_KZ\n",
       "AGER_TYP            AGER_TYP\n",
       "KK_KUNDENTYP    KK_KUNDENTYP\n",
       "KBA05_BAUMAX    KBA05_BAUMAX\n",
       "GEBURTSJAHR      GEBURTSJAHR\n",
       "ALTER_HH            ALTER_HH\n",
       "Name: column_name, dtype: object"
      ]
     },
     "execution_count": 36,
     "metadata": {},
     "output_type": "execute_result"
    }
   ],
   "source": [
    "drop_columns"
   ]
  },
  {
   "cell_type": "code",
   "execution_count": 37,
   "metadata": {},
   "outputs": [
    {
     "data": {
      "text/plain": [
       "['LP_LEBENSPHASE_FEIN',\n",
       " 'LP_LEBENSPHASE_GROB',\n",
       " 'PRAEGENDE_JUGENDJAHRE',\n",
       " 'WOHNLAGE',\n",
       " 'CAMEO_INTL_2015',\n",
       " 'PLZ8_BAUMAX']"
      ]
     },
     "execution_count": 37,
     "metadata": {},
     "output_type": "execute_result"
    }
   ],
   "source": [
    "drop_columns2"
   ]
  },
  {
   "cell_type": "markdown",
   "metadata": {},
   "source": [
    "#### Discussion 1.2.2: Engineer Mixed-Type Features\n",
    "The data from column  PRAEGENDE_JUGENDJAHRE was divided into two new columns.\n",
    "    1) based on the movement type\n",
    "    2) based on the generation by decade\n",
    "The data from the column CAMEO_INTL_2015 was also divided over two new columns\n",
    "    1) tens place digit specifies the wealth\n",
    "    2) ones place digit specifies the lifestage\n",
    "    \n",
    "The rest of the mixed type columns were dropped\n",
    "\n",
    " \n"
   ]
  },
  {
   "cell_type": "markdown",
   "metadata": {},
   "source": [
    "#### Step 1.2.3: Complete Feature Selection\n",
    "\n",
    "In order to finish this step up, you need to make sure that your data frame now only has the columns that you want to keep. To summarize, the dataframe should consist of the following:\n",
    "- All numeric, interval, and ordinal type columns from the original dataset.\n",
    "- Binary categorical features (all numerically-encoded).\n",
    "- Engineered features from other multi-level categorical features and mixed features.\n",
    "\n",
    "Make sure that for any new columns that you have engineered, that you've excluded the original columns from the final dataset. Otherwise, their values will interfere with the analysis later on the project. For example, you should not keep \"PRAEGENDE_JUGENDJAHRE\", since its values won't be useful for the algorithm: only the values derived from it in the engineered features you created should be retained. As a reminder, your data should only be from **the subset with few or no missing values**."
   ]
  },
  {
   "cell_type": "code",
   "execution_count": 38,
   "metadata": {},
   "outputs": [],
   "source": [
    "# If there are other re-engineering tasks you need to perform, make sure you\n",
    "# take care of them here. (Dealing with missing data will come in step 2.1.)\n"
   ]
  },
  {
   "cell_type": "code",
   "execution_count": 39,
   "metadata": {},
   "outputs": [
    {
     "data": {
      "text/plain": [
       "array([dtype('uint8'), dtype('int64'), dtype('float64'), dtype('O')],\n",
       "      dtype=object)"
      ]
     },
     "execution_count": 39,
     "metadata": {},
     "output_type": "execute_result"
    }
   ],
   "source": [
    "# Check that columns have the right type\n",
    "np.unique(azdias_rows_missing_low.dtypes.values)"
   ]
  },
  {
   "cell_type": "code",
   "execution_count": 40,
   "metadata": {},
   "outputs": [
    {
     "name": "stdout",
     "output_type": "stream",
     "text": [
      "<class 'pandas.core.frame.DataFrame'>\n",
      "Int64Index: 797077 entries, 1 to 891220\n",
      "Columns: 148 entries, ALTERSKATEGORIE_GROB to CAMEO_INTL_2015_lifestage\n",
      "dtypes: float64(104), int64(23), object(2), uint8(19)\n",
      "memory usage: 821.1+ MB\n"
     ]
    }
   ],
   "source": [
    "azdias_rows_missing_low.info()"
   ]
  },
  {
   "cell_type": "code",
   "execution_count": 41,
   "metadata": {},
   "outputs": [],
   "source": [
    "# Do whatever you need to in order to ensure that the dataframe only contains\n",
    "# the columns that should be passed to the algorithm functions.\n",
    "\n"
   ]
  },
  {
   "cell_type": "markdown",
   "metadata": {},
   "source": [
    "### Step 1.3: Create a Cleaning Function\n",
    "\n",
    "Even though you've finished cleaning up the general population demographics data, it's important to look ahead to the future and realize that you'll need to perform the same cleaning steps on the customer demographics data. In this substep, complete the function below to execute the main feature selection, encoding, and re-engineering steps you performed above. Then, when it comes to looking at the customer data in Step 3, you can just run this function on that DataFrame to get the trimmed dataset in a single step."
   ]
  },
  {
   "cell_type": "code",
   "execution_count": 42,
   "metadata": {},
   "outputs": [],
   "source": [
    "def clean_data(df):\n",
    "    \"\"\"\n",
    "    Perform feature trimming, re-encoding, and engineering for demographics\n",
    "    data\n",
    "    \n",
    "    INPUT: Demographics DataFrame\n",
    "    OUTPUT: Trimmed and cleaned demographics DataFrame\n",
    "    \"\"\"\n",
    "    \n",
    "    # Put in code here to execute all main cleaning steps:\n",
    "    # convert missing value codes into NaNs, ... (1.1)\n",
    "    for attribute in feat_info['attribute']:\n",
    "        temp = feat_info[feat_info['attribute']==attribute].missing_or_unknown.iloc[0].replace('[','').replace(']','').split(',')\n",
    "        nan_list = [float(x) if x.lstrip('-').isnumeric() else x for x in temp]\n",
    "        #lstrip for getting rid of the negative sign in the string\n",
    "        #isnumeric checks whether it is number or not\n",
    "        df[attribute].replace(to_replace=nan_list,\n",
    "                      value=np.nan, inplace=True)\n",
    "    # remove selected columns \n",
    "    df.drop(drop_columns, axis='columns', inplace=True)\n",
    "    #and rows, ...\n",
    "    df_n_miss = df.isnull().transpose().sum()\n",
    "    df_rows_missing_low = df[df_n_miss<20]\n",
    "    # select, re-encode, (1.2.1)\n",
    "    #all categorical columns split to binary and multi\n",
    "    cat = feat_info[feat_info['type'] == 'categorical']['attribute'].values\n",
    "    cat = [x for x in cat if x in  df_rows_missing_low.columns] # only the ones that are kept in azdias dataset\n",
    "    cat_binary = [x for x in cat if  df_rows_missing_low[x].nunique()==2]\n",
    "    cat_multi = [x for x in cat if df_rows_missing_low[x].nunique()>2]\n",
    "    # binary non numeric categorical column converted to numeric\n",
    "    df_rows_missing_low.loc[:, 'OST_WEST_KZ'].replace({'W':0, 'O':1}, inplace=True);\n",
    "    #drop CAMEO_DEU_2015 due to too many features(44)\n",
    "    cat_multi.remove('CAMEO_DEU_2015')\n",
    "    df_rows_missing_low.drop('CAMEO_DEU_2015', axis=1, inplace=True)\n",
    "    # One hot encode the remainder of the multi level categorical columns\n",
    "    for y in cat_multi:\n",
    "        temp_data = df_rows_missing_low[y][df_rows_missing_low[y].notnull()]\n",
    "        ohe_data = pd.get_dummies(temp_data, prefix = y)\n",
    "        df_rows_missing_low =df_rows_missing_low.join(ohe_data)\n",
    "        df_rows_missing_low.drop([y], axis = 1, inplace = True)\n",
    "\n",
    "    #and engineer column values (1.2.2)\n",
    "    #engineer PRAEGENDE_JUGENDJAHRE\n",
    "    #movement \n",
    "    mainstream = [1,3,5,8,10,12,14]  # mainstream values as indicated in Data_Dictionary.md\n",
    "    avantgarde = [2,4,5,7,9,11,13,15]  # avantgarde values as indicated in Data_Dictionary.md\n",
    "    df_rows_missing_low['PRAEGENDE_JUGENDJAHRE_MOVEMENT'] = df_rows_missing_low['PRAEGENDE_JUGENDJAHRE'].apply(movement)\n",
    "    #generation by decade\n",
    "    a = [1, 2, 3, 4, 5, 6, 7, 8, 9, 10, 11, 12, 13, 14, 15] \n",
    "    b = [40, 40, 50, 50, 60, 60, 60, 70, 70, 80, 80, 80, 80, 90, 90] #VARIABLES a and b contain the index ad the decade value maaped \n",
    "                                                              #to the index per Data_Dictionary.md\n",
    "    gen_by_decade = pd.Series(b, index = a)\n",
    "    df_rows_missing_low['PRAEGENDE_JUGENDJAHRE_GEN_BY_DECADE'] = df_rows_missing_low['PRAEGENDE_JUGENDJAHRE'].map(gen_by_decade)\n",
    "\n",
    "    #engineer CAMEO_INTL_2015\n",
    "    #wealth\n",
    "    df_rows_missing_low['CAMEO_INTL_2015_wealth'] = df_rows_missing_low['CAMEO_INTL_2015'].str[0] # extract tens place digit and put it in the new column\n",
    "    #lifestage\n",
    "    df_rows_missing_low['CAMEO_INTL_2015_lifestage'] = df_rows_missing_low['CAMEO_INTL_2015'].str[1] # extract ones place digit\n",
    "\n",
    "    # Drop remainder of the mixed type columns from data\n",
    "    drop_columns2 = []\n",
    "    for attribute in feat_info[feat_info['type']=='mixed'].attribute:\n",
    "        drop_columns2.append(attribute)\n",
    "    drop_columns2.remove('KBA05_BAUMAX') # KBA05_BAUMAX was removed previously in section 1.1.2\n",
    "    df_rows_missing_low.drop(drop_columns2, axis='columns', inplace=True)\n",
    "\n",
    "    # Add columns filled with zero for column wih no data\n",
    "    columns = [col for col in azdias_rows_missing_low if col not in df_rows_missing_low]\n",
    "    for column in columns:\n",
    "        df_rows_missing_low[column] = 0\n",
    "\n",
    "    \n",
    "    #Return the cleaned dataframe.\n",
    "    return df_rows_missing_low\n"
   ]
  },
  {
   "cell_type": "markdown",
   "metadata": {},
   "source": [
    "## Step 2: Feature Transformation\n",
    "\n",
    "### Step 2.1: Apply Feature Scaling\n"
   ]
  },
  {
   "cell_type": "code",
   "execution_count": 43,
   "metadata": {},
   "outputs": [],
   "source": [
    "# If you've not yet cleaned the dataset of all NaN values, then investigate and\n",
    "# do that now.\n",
    "imputer = SimpleImputer()\n",
    "azdias_rows_missing_low = pd.DataFrame(imputer.fit_transform(azdias_rows_missing_low), columns = azdias_rows_missing_low.columns)"
   ]
  },
  {
   "cell_type": "code",
   "execution_count": 44,
   "metadata": {},
   "outputs": [
    {
     "data": {
      "text/plain": [
       "False"
      ]
     },
     "execution_count": 44,
     "metadata": {},
     "output_type": "execute_result"
    }
   ],
   "source": [
    "azdias_rows_missing_low.isnull().values.any()"
   ]
  },
  {
   "cell_type": "code",
   "execution_count": 45,
   "metadata": {},
   "outputs": [],
   "source": [
    "# Apply feature scaling to the general population demographics data.\n",
    "scaler = StandardScaler()\n",
    "azdias_rows__missing_low = pd.DataFrame(scaler.fit_transform(azdias_rows_missing_low), columns = azdias_rows_missing_low.columns)\n"
   ]
  },
  {
   "cell_type": "code",
   "execution_count": 46,
   "metadata": {},
   "outputs": [
    {
     "data": {
      "text/plain": [
       "(797077, 148)"
      ]
     },
     "execution_count": 46,
     "metadata": {},
     "output_type": "execute_result"
    }
   ],
   "source": [
    "azdias_rows__missing_low.shape"
   ]
  },
  {
   "cell_type": "markdown",
   "metadata": {},
   "source": [
    "### Discussion 2.1: Apply Feature Scaling\n",
    "\n",
    "In this step the following were performed:\n",
    "1) Used SimpleImputer package from sklearn to impute the missing values in the data set with column mean. \n",
    "2) Used standard scaler package in sklearn to scale the features.     "
   ]
  },
  {
   "cell_type": "markdown",
   "metadata": {},
   "source": [
    "### Step 2.2: Perform Dimensionality Reduction\n",
    "\n"
   ]
  },
  {
   "cell_type": "code",
   "execution_count": 47,
   "metadata": {},
   "outputs": [],
   "source": [
    "# Apply PCA to the data.\n",
    "pca = PCA()\n",
    "general_data_pca = pca.fit_transform(azdias_rows__missing_low)"
   ]
  },
  {
   "cell_type": "code",
   "execution_count": 48,
   "metadata": {},
   "outputs": [],
   "source": [
    "def scree_plot(pca, percent_var):\n",
    "    '''\n",
    "    Creates a scree plot associated with the principal components \n",
    "    \n",
    "    INPUT: pca - the result of instantian of PCA in scikit learn\n",
    "            \n",
    "    OUTPUT:\n",
    "            None\n",
    "    '''\n",
    "    num_components=len(pca.explained_variance_ratio_)\n",
    "    ind = np.arange(num_components)\n",
    "    vals = pca.explained_variance_ratio_\n",
    " \n",
    "    plt.figure(figsize=(20, 10))\n",
    "    ax = plt.subplot(111)\n",
    "    cumvals = np.cumsum(vals)\n",
    "    ax.bar(ind, vals)\n",
    "    ax.plot(ind, cumvals)\n",
    "    ax.axhline(percent_var, linestyle='dashed', color='black')\n",
    "    ax.xaxis.grid()\n",
    "    for i in range(num_components):\n",
    "        ax.annotate(r\"%s%%\" % ((str(vals[i]*100)[:4])), (ind[i]+0.2, vals[i]), va=\"bottom\", ha=\"center\", fontsize=12)\n",
    " \n",
    "    ax.xaxis.set_tick_params(width=0)\n",
    "    ax.yaxis.set_tick_params(width=2, length=12)\n",
    " \n",
    "    ax.set_xlabel(\"Principal Component\")\n",
    "    ax.set_ylabel(\"Variance Explained (%)\")\n",
    "    plt.title('Explained Variance Per Principal Component')"
   ]
  },
  {
   "cell_type": "code",
   "execution_count": 49,
   "metadata": {},
   "outputs": [
    {
     "data": {
      "image/png": "[encoded data removed]",
      "text/plain": [
       "<Figure size 1440x720 with 1 Axes>"
      ]
     },
     "metadata": {
      "needs_background": "light"
     },
     "output_type": "display_data"
    }
   ],
   "source": [
    "# Investigate the variance accounted for by each principal component.\n",
    "v = scree_plot(pca, 0.8)\n"
   ]
  },
  {
   "cell_type": "code",
   "execution_count": 50,
   "metadata": {},
   "outputs": [
    {
     "data": {
      "image/png": "[encoded data removed]",
      "text/plain": [
       "<Figure size 1440x720 with 1 Axes>"
      ]
     },
     "metadata": {
      "needs_background": "light"
     },
     "output_type": "display_data"
    }
   ],
   "source": [
    "v = scree_plot(pca, 0.6)"
   ]
  },
  {
   "cell_type": "code",
   "execution_count": 51,
   "metadata": {},
   "outputs": [],
   "source": [
    "# Re-apply PCA to the data while selecting for number of components to retain.\n",
    "pca = PCA(40)\n",
    "general_data_pca = pca.fit_transform(azdias_rows__missing_low)"
   ]
  },
  {
   "cell_type": "code",
   "execution_count": 52,
   "metadata": {},
   "outputs": [
    {
     "data": {
      "text/plain": [
       "0.6543346043694935"
      ]
     },
     "execution_count": 52,
     "metadata": {},
     "output_type": "execute_result"
    }
   ],
   "source": [
    "pca.explained_variance_ratio_.sum()"
   ]
  },
  {
   "cell_type": "raw",
   "metadata": {},
   "source": []
  },
  {
   "cell_type": "markdown",
   "metadata": {},
   "source": [
    "### Discussion 2.2: Perform Dimensionality Reduction\n",
    "\n",
    "PCA was applied to all the components, and a scree plot was added to assess the principal components amounting to 80% and 60% variance in the data. \n",
    "Pca was performed a second time retaining 40 features which explains a 60% variance in the data set"
   ]
  },
  {
   "cell_type": "markdown",
   "metadata": {},
   "source": [
    "### Step 2.3: Interpret Principal Components\n",
    "\n"
   ]
  },
  {
   "cell_type": "code",
   "execution_count": 53,
   "metadata": {},
   "outputs": [],
   "source": [
    "# Map weights for the first principal component to corresponding feature names\n",
    "# and then print the linked values, sorted by weight.\n",
    "# HINT: Try defining a function here or in a new cell that you can reuse in the\n",
    "# other cells.\n",
    "def weight_mapper(df, pca, n_princ_component):\n",
    "    pca_component = pd.DataFrame(np.round(pca.components_, 4), columns = df.keys()).iloc[n_princ_component-1]\n",
    "    pca_component.sort_values(ascending=False, inplace=True)\n",
    "    pca_component = pd.concat([pca_component.head(8), pca_component.tail(8)])\n",
    "    \n",
    "    \n",
    "    pca_component.plot(kind='bar', title='Principal component ' + str(n_princ_component))\n",
    "    ax = plt.gca()\n",
    "    ax.grid(linewidth='0.5', alpha=0.5)\n",
    "    ax.set_axisbelow(True)\n",
    "    plt.show()"
   ]
  },
  {
   "cell_type": "code",
   "execution_count": 54,
   "metadata": {},
   "outputs": [
    {
     "data": {
      "image/png": "[encoded data removed]",
      "text/plain": [
       "<Figure size 432x288 with 1 Axes>"
      ]
     },
     "metadata": {
      "needs_background": "light"
     },
     "output_type": "display_data"
    }
   ],
   "source": [
    "weight_mapper(azdias_rows__missing_low, pca, 1)"
   ]
  },
  {
   "cell_type": "code",
   "execution_count": 55,
   "metadata": {},
   "outputs": [
    {
     "data": {
      "image/png": "[encoded data removed]",
      "text/plain": [
       "<Figure size 432x288 with 1 Axes>"
      ]
     },
     "metadata": {
      "needs_background": "light"
     },
     "output_type": "display_data"
    }
   ],
   "source": [
    "# Map weights for the second principal component to corresponding feature names\n",
    "# and then print the linked values, sorted by weight.\n",
    "weight_mapper(azdias_rows__missing_low, pca, 2)"
   ]
  },
  {
   "cell_type": "code",
   "execution_count": 56,
   "metadata": {},
   "outputs": [
    {
     "data": {
      "image/png": "[encoded data removed]",
      "text/plain": [
       "<Figure size 432x288 with 1 Axes>"
      ]
     },
     "metadata": {
      "needs_background": "light"
     },
     "output_type": "display_data"
    }
   ],
   "source": [
    "# Map weights for the third principal component to corresponding feature names\n",
    "# and then print the linked values, sorted by weight.\n",
    "weight_mapper(azdias_rows__missing_low, pca, 3)\n"
   ]
  },
  {
   "cell_type": "markdown",
   "metadata": {},
   "source": [
    "### Discussion 2.3: Interpret Principal Components\n",
    "\n",
    "#### First Principal Component\n",
    "Positive associations: \n",
    "LP_STATUS_GROB_1: low-income earners\n",
    "HH_EINKOMMEN_SCORE: Estimated household income with lower earners having higher scores.\n",
    "PLZ8_ANTG3: # of 6-10 family houses in PLZ8 region\n",
    "\n",
    "Negative associations:\n",
    "MOBI_REGIO: Movement pattern with higher scores meaning less movement.\n",
    "FINANZ_MINIMALIST: Financial - higher score means lower financial interest\n",
    "KBA05_ANTG1: number of 1-2 family houses in microcell\n",
    "\n",
    "#### Second Principal Component\n",
    "Positive associations: \n",
    "ALTERSKATEGORIE_GROB: Estimated age with the older people having higher scores.\n",
    "FINANZ_VORSORGER: Financial typology with higher scores having lower intrest.\n",
    "ZABEOTYP_3: Energy consumption\n",
    "\n",
    "Negative associations:\n",
    "PRAEGENDE_JUGENDJAHRE_decade: Decade of movement of person's youth \n",
    "FINANZ_SPARER: Financial typology, MONEY-SPARER higher scores having lower intrest.\n",
    "FINANZ_UNAUFFAELLIGER: Financial typology, inconspicuous higher score is lower interest\n",
    "\n",
    "#### Third Principal Component\n",
    "Positive associations: \n",
    "SEMIO_VERT: Personality typology - dreamful higher score shows lower affinity\n",
    "SEMIO_FAM: Personality typology - family-minded higher score shows lower affinity\n",
    "SEMIO_SOZ: Personality typology - socially-minded higher score shows lower affinity\n",
    "\n",
    "Negative associations:\n",
    "ANREDE_KZ: Gender\n",
    "SEMIO_KAEM: Personality typology - combative attitude higher score shows lower affinity\n",
    "SEMIO_DOM: Personality typology - dominant-minded higher score shows lower affinity"
   ]
  },
  {
   "cell_type": "markdown",
   "metadata": {},
   "source": [
    "## Step 3: Clustering\n",
    "\n",
    "### Step 3.1: Apply Clustering to General Population\n",
    "\n",
    "You've assessed and cleaned the demographics data, then scaled and transformed them. Now, it's time to see how the data clusters in the principal components space. In this substep, you will apply k-means clustering to the dataset and use the average within-cluster distances from each point to their assigned cluster's centroid to decide on a number of clusters to keep.\n",
    "\n",
    "- Use sklearn's [KMeans](http://scikit-learn.org/stable/modules/generated/sklearn.cluster.KMeans.html#sklearn.cluster.KMeans) class to perform k-means clustering on the PCA-transformed data.\n",
    "- Then, compute the average difference from each point to its assigned cluster's center. **Hint**: The KMeans object's `.score()` method might be useful here, but note that in sklearn, scores tend to be defined so that larger is better. Try applying it to a small, toy dataset, or use an internet search to help your understanding.\n",
    "- Perform the above two steps for a number of different cluster counts. You can then see how the average distance decreases with an increasing number of clusters. However, each additional cluster provides a smaller net benefit. Use this fact to select a final number of clusters in which to group the data. **Warning**: because of the large size of the dataset, it can take a long time for the algorithm to resolve. The more clusters to fit, the longer the algorithm will take. You should test for cluster counts through at least 10 clusters to get the full picture, but you shouldn't need to test for a number of clusters above about 30.\n",
    "- Once you've selected a final number of clusters to use, re-fit a KMeans instance to perform the clustering operation. Make sure that you also obtain the cluster assignments for the general demographics data, since you'll be using them in the final Step 3.3."
   ]
  },
  {
   "cell_type": "code",
   "execution_count": 57,
   "metadata": {},
   "outputs": [],
   "source": [
    "pca_features_sample = general_data_pca[np.random.choice(general_data_pca.shape[0], \\\n",
    "                                                    int(general_data_pca.shape[0]*0.2), replace=False)]"
   ]
  },
  {
   "cell_type": "code",
   "execution_count": 58,
   "metadata": {},
   "outputs": [
    {
     "data": {
      "image/png": "[encoded data removed]",
      "text/plain": [
       "<Figure size 432x288 with 1 Axes>"
      ]
     },
     "metadata": {
      "needs_background": "light"
     },
     "output_type": "display_data"
    }
   ],
   "source": [
    "# Over a number of different cluster counts...\n",
    "# run k-means clustering on the data and...\n",
    "# compute the average within-cluster distances.\n",
    "\n",
    "km_score = []\n",
    "k_range = np.arange(5, 28)\n",
    "\n",
    "for k in k_range:\n",
    "    kmeans = KMeans(k).fit(pca_features_sample)\n",
    "    km_score.append(np.abs(kmeans.score(pca_features_sample)))\n",
    "    \n",
    "plt.plot(k_range, km_score, linestyle='-', marker='o');\n",
    "plt.xlabel('Cluster count (K)');\n",
    "plt.ylabel('Score');\n",
    "plt.title('Cluster count (K) vs. kmeans.score');\n"
   ]
  },
  {
   "cell_type": "code",
   "execution_count": 59,
   "metadata": {},
   "outputs": [],
   "source": [
    "# Investigate the change in within-cluster distance across number of clusters.\n",
    "# HINT: Use matplotlib's plot function to visualize this relationship.\n",
    "\n"
   ]
  },
  {
   "cell_type": "code",
   "execution_count": 60,
   "metadata": {},
   "outputs": [],
   "source": [
    "# Re-fit the k-means model with the selected number of clusters and obtain\n",
    "# cluster predictions for the general population demographics data.\n",
    "\n",
    "kmeans = KMeans(25).fit(general_data_pca)\n",
    "kmeans_pop = kmeans.predict(general_data_pca)\n"
   ]
  },
  {
   "cell_type": "code",
   "execution_count": 61,
   "metadata": {},
   "outputs": [
    {
     "data": {
      "text/plain": [
       "array([ 0,  6, 16, ...,  6, 10, 11])"
      ]
     },
     "execution_count": 61,
     "metadata": {},
     "output_type": "execute_result"
    }
   ],
   "source": [
    "kmeans_pop"
   ]
  },
  {
   "cell_type": "markdown",
   "metadata": {},
   "source": [
    "### Discussion 3.1: Apply Clustering to General Population\n",
    "\n",
    "Using a reasonable choice for general populatons was done to increase processessing speed.\n",
    "\n",
    "Clustering performance was done by a scree plot to visulize the number of cluster with the best having the lowest score. Clusters range from 5-28.\n"
   ]
  },
  {
   "cell_type": "markdown",
   "metadata": {},
   "source": [
    "### Step 3.2: Apply All Steps to the Customer Data\n",
    "\n",
    "Now that you have clusters and cluster centers for the general population, it's time to see how the customer data maps on to those clusters. Take care to not confuse this for re-fitting all of the models to the customer data. Instead, you're going to use the fits from the general population to clean, transform, and cluster the customer data. In the last step of the project, you will interpret how the general population fits apply to the customer data.\n",
    "\n",
    "- Don't forget when loading in the customers data, that it is semicolon (`;`) delimited.\n",
    "- Apply the same feature wrangling, selection, and engineering steps to the customer demographics using the `clean_data()` function you created earlier. (You can assume that the customer demographics data has similar meaning behind missing data patterns as the general demographics data.)\n",
    "- Use the sklearn objects from the general demographics data, and apply their transformations to the customers data. That is, you should not be using a `.fit()` or `.fit_transform()` method to re-fit the old objects, nor should you be creating new sklearn objects! Carry the data through the feature scaling, PCA, and clustering steps, obtaining cluster assignments for all of the data in the customer demographics data."
   ]
  },
  {
   "cell_type": "code",
   "execution_count": 62,
   "metadata": {},
   "outputs": [],
   "source": [
    "# Load in the customer demographics data.\n",
    "customer_data = pd.read_csv('Udacity_CUSTOMERS_Subset.csv', delimiter=';')"
   ]
  },
  {
   "cell_type": "code",
   "execution_count": 63,
   "metadata": {},
   "outputs": [
    {
     "name": "stdout",
     "output_type": "stream",
     "text": [
      "<class 'pandas.core.frame.DataFrame'>\n",
      "Int64Index: 141590 entries, 0 to 191651\n",
      "Columns: 148 entries, ALTERSKATEGORIE_GROB to GEBAEUDETYP_5.0\n",
      "dtypes: float64(104), int64(24), object(2), uint8(18)\n",
      "memory usage: 148.0+ MB\n"
     ]
    }
   ],
   "source": [
    "# Apply preprocessing, feature transformation, and clustering from the general\n",
    "# demographics onto the customer data, obtaining cluster predictions for the\n",
    "# customer demographics data.\n",
    "customer_data_clean = clean_data(customer_data)\n",
    "customer_data_clean.info()\n"
   ]
  },
  {
   "cell_type": "code",
   "execution_count": 64,
   "metadata": {},
   "outputs": [],
   "source": [
    "#imputing step\n",
    "customer_data_clean = pd.DataFrame(imputer.transform(customer_data_clean), columns = customer_data_clean.columns)"
   ]
  },
  {
   "cell_type": "code",
   "execution_count": 65,
   "metadata": {},
   "outputs": [],
   "source": [
    "# scaling std. scaler step\n",
    "customer_data_clean  = pd.DataFrame(scaler.transform(customer_data_clean ), columns = customer_data_clean.columns)"
   ]
  },
  {
   "cell_type": "code",
   "execution_count": 66,
   "metadata": {},
   "outputs": [
    {
     "data": {
      "text/plain": [
       "(141590, 148)"
      ]
     },
     "execution_count": 66,
     "metadata": {},
     "output_type": "execute_result"
    }
   ],
   "source": [
    "customer_data_clean.shape"
   ]
  },
  {
   "cell_type": "code",
   "execution_count": 67,
   "metadata": {},
   "outputs": [
    {
     "data": {
      "text/html": [
       "<div>\n",
       "<style scoped>\n",
       "    .dataframe tbody tr th:only-of-type {\n",
       "        vertical-align: middle;\n",
       "    }\n",
       "\n",
       "    .dataframe tbody tr th {\n",
       "        vertical-align: top;\n",
       "    }\n",
       "\n",
       "    .dataframe thead th {\n",
       "        text-align: right;\n",
       "    }\n",
       "</style>\n",
       "<table border=\"1\" class=\"dataframe\">\n",
       "  <thead>\n",
       "    <tr style=\"text-align: right;\">\n",
       "      <th></th>\n",
       "      <th>ALTERSKATEGORIE_GROB</th>\n",
       "      <th>ANREDE_KZ</th>\n",
       "      <th>FINANZ_MINIMALIST</th>\n",
       "      <th>FINANZ_SPARER</th>\n",
       "      <th>FINANZ_VORSORGER</th>\n",
       "      <th>FINANZ_ANLEGER</th>\n",
       "      <th>FINANZ_UNAUFFAELLIGER</th>\n",
       "      <th>FINANZ_HAUSBAUER</th>\n",
       "      <th>GREEN_AVANTGARDE</th>\n",
       "      <th>HEALTH_TYP</th>\n",
       "      <th>...</th>\n",
       "      <th>CAMEO_DEUG_2015_5</th>\n",
       "      <th>CAMEO_DEUG_2015_6</th>\n",
       "      <th>CAMEO_DEUG_2015_7</th>\n",
       "      <th>CAMEO_DEUG_2015_8</th>\n",
       "      <th>CAMEO_DEUG_2015_9</th>\n",
       "      <th>PRAEGENDE_JUGENDJAHRE_MOVEMENT</th>\n",
       "      <th>PRAEGENDE_JUGENDJAHRE_GEN_BY_DECADE</th>\n",
       "      <th>CAMEO_INTL_2015_wealth</th>\n",
       "      <th>CAMEO_INTL_2015_lifestage</th>\n",
       "      <th>GEBAEUDETYP_5.0</th>\n",
       "    </tr>\n",
       "  </thead>\n",
       "  <tbody>\n",
       "    <tr>\n",
       "      <th>0</th>\n",
       "      <td>1.184971</td>\n",
       "      <td>-1.043709</td>\n",
       "      <td>1.409202</td>\n",
       "      <td>-1.155407</td>\n",
       "      <td>1.138052</td>\n",
       "      <td>-1.250019</td>\n",
       "      <td>-0.469499</td>\n",
       "      <td>-0.792444</td>\n",
       "      <td>1.884467</td>\n",
       "      <td>-1.625745</td>\n",
       "      <td>...</td>\n",
       "      <td>-0.390058</td>\n",
       "      <td>-0.274916</td>\n",
       "      <td>-0.394382</td>\n",
       "      <td>-0.331663</td>\n",
       "      <td>-0.454017</td>\n",
       "      <td>-0.399356</td>\n",
       "      <td>49.242874</td>\n",
       "      <td>-5.052960</td>\n",
       "      <td>-0.179980</td>\n",
       "      <td>-1.941924</td>\n",
       "    </tr>\n",
       "    <tr>\n",
       "      <th>1</th>\n",
       "      <td>1.184971</td>\n",
       "      <td>0.958121</td>\n",
       "      <td>1.409202</td>\n",
       "      <td>-1.155407</td>\n",
       "      <td>1.138052</td>\n",
       "      <td>-1.250019</td>\n",
       "      <td>0.959974</td>\n",
       "      <td>0.628207</td>\n",
       "      <td>1.884467</td>\n",
       "      <td>-0.270203</td>\n",
       "      <td>...</td>\n",
       "      <td>2.582735</td>\n",
       "      <td>-0.274916</td>\n",
       "      <td>-0.394382</td>\n",
       "      <td>-0.331663</td>\n",
       "      <td>-0.454017</td>\n",
       "      <td>-0.399356</td>\n",
       "      <td>49.242874</td>\n",
       "      <td>-4.913219</td>\n",
       "      <td>0.505358</td>\n",
       "      <td>-1.941924</td>\n",
       "    </tr>\n",
       "    <tr>\n",
       "      <th>2</th>\n",
       "      <td>1.184971</td>\n",
       "      <td>-1.043709</td>\n",
       "      <td>1.409202</td>\n",
       "      <td>-1.155407</td>\n",
       "      <td>1.138052</td>\n",
       "      <td>-0.570914</td>\n",
       "      <td>-1.184235</td>\n",
       "      <td>-0.792444</td>\n",
       "      <td>-0.530654</td>\n",
       "      <td>-0.270203</td>\n",
       "      <td>...</td>\n",
       "      <td>-0.390058</td>\n",
       "      <td>-0.274916</td>\n",
       "      <td>-0.394382</td>\n",
       "      <td>-0.331663</td>\n",
       "      <td>-0.454017</td>\n",
       "      <td>2.522600</td>\n",
       "      <td>39.198971</td>\n",
       "      <td>-4.983090</td>\n",
       "      <td>0.505358</td>\n",
       "      <td>-1.941924</td>\n",
       "    </tr>\n",
       "    <tr>\n",
       "      <th>3</th>\n",
       "      <td>0.201448</td>\n",
       "      <td>-1.043709</td>\n",
       "      <td>-0.042631</td>\n",
       "      <td>-1.155407</td>\n",
       "      <td>0.411813</td>\n",
       "      <td>0.787296</td>\n",
       "      <td>1.674710</td>\n",
       "      <td>-0.792444</td>\n",
       "      <td>-0.530654</td>\n",
       "      <td>1.085338</td>\n",
       "      <td>...</td>\n",
       "      <td>-0.390058</td>\n",
       "      <td>-0.274916</td>\n",
       "      <td>2.554416</td>\n",
       "      <td>-0.331663</td>\n",
       "      <td>-0.454017</td>\n",
       "      <td>2.522600</td>\n",
       "      <td>69.330678</td>\n",
       "      <td>-4.843349</td>\n",
       "      <td>-1.550656</td>\n",
       "      <td>-1.941924</td>\n",
       "    </tr>\n",
       "    <tr>\n",
       "      <th>4</th>\n",
       "      <td>0.201448</td>\n",
       "      <td>-1.043709</td>\n",
       "      <td>1.409202</td>\n",
       "      <td>-1.155407</td>\n",
       "      <td>1.138052</td>\n",
       "      <td>-1.250019</td>\n",
       "      <td>-0.469499</td>\n",
       "      <td>-0.082119</td>\n",
       "      <td>1.884467</td>\n",
       "      <td>1.085338</td>\n",
       "      <td>...</td>\n",
       "      <td>2.582735</td>\n",
       "      <td>-0.274916</td>\n",
       "      <td>-0.394382</td>\n",
       "      <td>-0.331663</td>\n",
       "      <td>-0.454017</td>\n",
       "      <td>-0.399356</td>\n",
       "      <td>49.242874</td>\n",
       "      <td>-4.913219</td>\n",
       "      <td>0.505358</td>\n",
       "      <td>-1.941924</td>\n",
       "    </tr>\n",
       "  </tbody>\n",
       "</table>\n",
       "<p>5 rows × 148 columns</p>\n",
       "</div>"
      ],
      "text/plain": [
       "   ALTERSKATEGORIE_GROB  ANREDE_KZ  FINANZ_MINIMALIST  FINANZ_SPARER  \\\n",
       "0              1.184971  -1.043709           1.409202      -1.155407   \n",
       "1              1.184971   0.958121           1.409202      -1.155407   \n",
       "2              1.184971  -1.043709           1.409202      -1.155407   \n",
       "3              0.201448  -1.043709          -0.042631      -1.155407   \n",
       "4              0.201448  -1.043709           1.409202      -1.155407   \n",
       "\n",
       "   FINANZ_VORSORGER  FINANZ_ANLEGER  FINANZ_UNAUFFAELLIGER  FINANZ_HAUSBAUER  \\\n",
       "0          1.138052       -1.250019              -0.469499         -0.792444   \n",
       "1          1.138052       -1.250019               0.959974          0.628207   \n",
       "2          1.138052       -0.570914              -1.184235         -0.792444   \n",
       "3          0.411813        0.787296               1.674710         -0.792444   \n",
       "4          1.138052       -1.250019              -0.469499         -0.082119   \n",
       "\n",
       "   GREEN_AVANTGARDE  HEALTH_TYP  ...  CAMEO_DEUG_2015_5  CAMEO_DEUG_2015_6  \\\n",
       "0          1.884467   -1.625745  ...          -0.390058          -0.274916   \n",
       "1          1.884467   -0.270203  ...           2.582735          -0.274916   \n",
       "2         -0.530654   -0.270203  ...          -0.390058          -0.274916   \n",
       "3         -0.530654    1.085338  ...          -0.390058          -0.274916   \n",
       "4          1.884467    1.085338  ...           2.582735          -0.274916   \n",
       "\n",
       "   CAMEO_DEUG_2015_7  CAMEO_DEUG_2015_8  CAMEO_DEUG_2015_9  \\\n",
       "0          -0.394382          -0.331663          -0.454017   \n",
       "1          -0.394382          -0.331663          -0.454017   \n",
       "2          -0.394382          -0.331663          -0.454017   \n",
       "3           2.554416          -0.331663          -0.454017   \n",
       "4          -0.394382          -0.331663          -0.454017   \n",
       "\n",
       "   PRAEGENDE_JUGENDJAHRE_MOVEMENT  PRAEGENDE_JUGENDJAHRE_GEN_BY_DECADE  \\\n",
       "0                       -0.399356                            49.242874   \n",
       "1                       -0.399356                            49.242874   \n",
       "2                        2.522600                            39.198971   \n",
       "3                        2.522600                            69.330678   \n",
       "4                       -0.399356                            49.242874   \n",
       "\n",
       "   CAMEO_INTL_2015_wealth  CAMEO_INTL_2015_lifestage  GEBAEUDETYP_5.0  \n",
       "0               -5.052960                  -0.179980        -1.941924  \n",
       "1               -4.913219                   0.505358        -1.941924  \n",
       "2               -4.983090                   0.505358        -1.941924  \n",
       "3               -4.843349                  -1.550656        -1.941924  \n",
       "4               -4.913219                   0.505358        -1.941924  \n",
       "\n",
       "[5 rows x 148 columns]"
      ]
     },
     "execution_count": 67,
     "metadata": {},
     "output_type": "execute_result"
    }
   ],
   "source": [
    "customer_data_clean.head()"
   ]
  },
  {
   "cell_type": "code",
   "execution_count": 68,
   "metadata": {},
   "outputs": [],
   "source": [
    "#pca transform\n",
    "customer_pca = pca.transform(customer_data_clean)"
   ]
  },
  {
   "cell_type": "code",
   "execution_count": 69,
   "metadata": {},
   "outputs": [],
   "source": [
    "#clustering\n",
    "kmeans_customer = kmeans.predict(customer_pca)"
   ]
  },
  {
   "cell_type": "code",
   "execution_count": 70,
   "metadata": {},
   "outputs": [
    {
     "data": {
      "text/plain": [
       "array([ 8,  2, 16, ...,  8,  2, 14])"
      ]
     },
     "execution_count": 70,
     "metadata": {},
     "output_type": "execute_result"
    }
   ],
   "source": [
    "kmeans_customer"
   ]
  },
  {
   "cell_type": "markdown",
   "metadata": {},
   "source": [
    "### Step 3.3: Compare Customer Data to Demographics Data\n",
    "\n",
    "At this point, you have clustered data based on demographics of the general population of Germany, and seen how the customer data for a mail-order sales company maps onto those demographic clusters. In this final substep, you will compare the two cluster distributions to see where the strongest customer base for the company is.\n",
    "\n",
    "Consider the proportion of persons in each cluster for the general population, and the proportions for the customers. If we think the company's customer base to be universal, then the cluster assignment proportions should be fairly similar between the two. If there are only particular segments of the population that are interested in the company's products, then we should see a mismatch from one to the other. If there is a higher proportion of persons in a cluster for the customer data compared to the general population (e.g. 5% of persons are assigned to a cluster for the general population, but 15% of the customer data is closest to that cluster's centroid) then that suggests the people in that cluster to be a target audience for the company. On the other hand, the proportion of the data in a cluster being larger in the general population than the customer data (e.g. only 2% of customers closest to a population centroid that captures 6% of the data) suggests that group of persons to be outside of the target demographics.\n",
    "\n",
    "Take a look at the following points in this step:\n",
    "\n",
    "- Compute the proportion of data points in each cluster for the general population and the customer data. Visualizations will be useful here: both for the individual dataset proportions, but also to visualize the ratios in cluster representation between groups. Seaborn's [`countplot()`](https://seaborn.pydata.org/generated/seaborn.countplot.html) or [`barplot()`](https://seaborn.pydata.org/generated/seaborn.barplot.html) function could be handy.\n",
    "  - Recall the analysis you performed in step 1.1.3 of the project, where you separated out certain data points from the dataset if they had more than a specified threshold of missing values. If you found that this group was qualitatively different from the main bulk of the data, you should treat this as an additional data cluster in this analysis. Make sure that you account for the number of data points in this subset, for both the general population and customer datasets, when making your computations!\n",
    "- Which cluster or clusters are overrepresented in the customer dataset compared to the general population? Select at least one such cluster and infer what kind of people might be represented by that cluster. Use the principal component interpretations from step 2.3 or look at additional components to help you make this inference. Alternatively, you can use the `.inverse_transform()` method of the PCA and StandardScaler objects to transform centroids back to the original data space and interpret the retrieved values directly.\n",
    "- Perform a similar investigation for the underrepresented clusters. Which cluster or clusters are underrepresented in the customer dataset compared to the general population, and what kinds of people are typified by these clusters?"
   ]
  },
  {
   "cell_type": "code",
   "execution_count": 71,
   "metadata": {},
   "outputs": [
    {
     "data": {
      "image/png": "[encoded data removed]",
      "text/plain": [
       "<Figure size 432x288 with 1 Axes>"
      ]
     },
     "metadata": {
      "needs_background": "light"
     },
     "output_type": "display_data"
    }
   ],
   "source": [
    "# Compare the proportion of data in each cluster for the customer data to the\n",
    "# proportion of data in each cluster for the general population.\n",
    "fig = plt.figure()\n",
    "ax = fig.add_axes([0,0,2,1], title = 'General Population and Customer distribution plot')\n",
    "sns.distplot(kmeans_pop, label = 'population', ax = ax)\n",
    "sns.distplot(kmeans_customer, label = 'customer', ax = ax)\n",
    "plt.xticks(np.arange(0,25,1))\n",
    "plt.yticks (np.arange(0,0.35,0.02))\n",
    "plt.xlabel('kmeans cluster')\n",
    "plt.ylabel('proportion')\n",
    "ax.legend();"
   ]
  },
  {
   "cell_type": "code",
   "execution_count": 72,
   "metadata": {},
   "outputs": [
    {
     "data": {
      "text/plain": [
       "Text(0.5, 1.0, 'Customer kmeans countplot')"
      ]
     },
     "execution_count": 72,
     "metadata": {},
     "output_type": "execute_result"
    },
    {
     "data": {
      "image/png": "[encoded data removed]",
      "text/plain": [
       "<Figure size 1152x720 with 1 Axes>"
      ]
     },
     "metadata": {
      "needs_background": "light"
     },
     "output_type": "display_data"
    }
   ],
   "source": [
    "# customer data kmeans count plot\n",
    "plt.figure(figsize=(16,10))\n",
    "sns.countplot(kmeans_customer)\n",
    "plt.title('Customer kmeans countplot')"
   ]
  },
  {
   "cell_type": "code",
   "execution_count": 73,
   "metadata": {},
   "outputs": [
    {
     "data": {
      "text/plain": [
       "Text(0.5, 1.0, 'Popuation kmeans countplot')"
      ]
     },
     "execution_count": 73,
     "metadata": {},
     "output_type": "execute_result"
    },
    {
     "data": {
      "image/png": "[encoded data removed]",
      "text/plain": [
       "<Figure size 1152x720 with 1 Axes>"
      ]
     },
     "metadata": {
      "needs_background": "light"
     },
     "output_type": "display_data"
    }
   ],
   "source": [
    "# general population data kmeans count plot\n",
    "plt.figure(figsize=(16,10))\n",
    "sns.countplot(kmeans_pop)\n",
    "plt.title('Popuation kmeans countplot')"
   ]
  },
  {
   "cell_type": "code",
   "execution_count": 74,
   "metadata": {},
   "outputs": [
    {
     "data": {
      "text/html": [
       "<div>\n",
       "<style scoped>\n",
       "    .dataframe tbody tr th:only-of-type {\n",
       "        vertical-align: middle;\n",
       "    }\n",
       "\n",
       "    .dataframe tbody tr th {\n",
       "        vertical-align: top;\n",
       "    }\n",
       "\n",
       "    .dataframe thead th {\n",
       "        text-align: right;\n",
       "    }\n",
       "</style>\n",
       "<table border=\"1\" class=\"dataframe\">\n",
       "  <thead>\n",
       "    <tr style=\"text-align: right;\">\n",
       "      <th></th>\n",
       "      <th>DiffPerc</th>\n",
       "      <th>CustPerc</th>\n",
       "      <th>PopPerc</th>\n",
       "    </tr>\n",
       "    <tr>\n",
       "      <th>Cluster</th>\n",
       "      <th></th>\n",
       "      <th></th>\n",
       "      <th></th>\n",
       "    </tr>\n",
       "  </thead>\n",
       "  <tbody>\n",
       "    <tr>\n",
       "      <th>8</th>\n",
       "      <td>43.097472</td>\n",
       "      <td>47.242743</td>\n",
       "      <td>4.145271</td>\n",
       "    </tr>\n",
       "    <tr>\n",
       "      <th>2</th>\n",
       "      <td>12.161151</td>\n",
       "      <td>16.657956</td>\n",
       "      <td>4.496805</td>\n",
       "    </tr>\n",
       "    <tr>\n",
       "      <th>23</th>\n",
       "      <td>4.263841</td>\n",
       "      <td>5.068155</td>\n",
       "      <td>0.804314</td>\n",
       "    </tr>\n",
       "    <tr>\n",
       "      <th>21</th>\n",
       "      <td>1.543094</td>\n",
       "      <td>1.918215</td>\n",
       "      <td>0.375121</td>\n",
       "    </tr>\n",
       "    <tr>\n",
       "      <th>13</th>\n",
       "      <td>0.972949</td>\n",
       "      <td>5.984886</td>\n",
       "      <td>5.011937</td>\n",
       "    </tr>\n",
       "    <tr>\n",
       "      <th>24</th>\n",
       "      <td>0.467879</td>\n",
       "      <td>3.214916</td>\n",
       "      <td>2.747037</td>\n",
       "    </tr>\n",
       "    <tr>\n",
       "      <th>22</th>\n",
       "      <td>-0.237345</td>\n",
       "      <td>4.370365</td>\n",
       "      <td>4.607710</td>\n",
       "    </tr>\n",
       "    <tr>\n",
       "      <th>4</th>\n",
       "      <td>-0.834548</td>\n",
       "      <td>2.291122</td>\n",
       "      <td>3.125670</td>\n",
       "    </tr>\n",
       "    <tr>\n",
       "      <th>15</th>\n",
       "      <td>-1.836237</td>\n",
       "      <td>0.004238</td>\n",
       "      <td>1.840475</td>\n",
       "    </tr>\n",
       "    <tr>\n",
       "      <th>16</th>\n",
       "      <td>-2.327579</td>\n",
       "      <td>3.517904</td>\n",
       "      <td>5.845483</td>\n",
       "    </tr>\n",
       "    <tr>\n",
       "      <th>20</th>\n",
       "      <td>-2.328079</td>\n",
       "      <td>0.935094</td>\n",
       "      <td>3.263173</td>\n",
       "    </tr>\n",
       "    <tr>\n",
       "      <th>7</th>\n",
       "      <td>-2.338997</td>\n",
       "      <td>0.062151</td>\n",
       "      <td>2.401148</td>\n",
       "    </tr>\n",
       "    <tr>\n",
       "      <th>18</th>\n",
       "      <td>-2.389386</td>\n",
       "      <td>0.454128</td>\n",
       "      <td>2.843514</td>\n",
       "    </tr>\n",
       "    <tr>\n",
       "      <th>3</th>\n",
       "      <td>-2.612967</td>\n",
       "      <td>0.949926</td>\n",
       "      <td>3.562893</td>\n",
       "    </tr>\n",
       "    <tr>\n",
       "      <th>1</th>\n",
       "      <td>-2.641343</td>\n",
       "      <td>0.073452</td>\n",
       "      <td>2.714794</td>\n",
       "    </tr>\n",
       "    <tr>\n",
       "      <th>14</th>\n",
       "      <td>-3.127883</td>\n",
       "      <td>2.012148</td>\n",
       "      <td>5.140030</td>\n",
       "    </tr>\n",
       "    <tr>\n",
       "      <th>0</th>\n",
       "      <td>-3.228604</td>\n",
       "      <td>0.084752</td>\n",
       "      <td>3.313356</td>\n",
       "    </tr>\n",
       "    <tr>\n",
       "      <th>19</th>\n",
       "      <td>-3.324844</td>\n",
       "      <td>2.042517</td>\n",
       "      <td>5.367361</td>\n",
       "    </tr>\n",
       "    <tr>\n",
       "      <th>9</th>\n",
       "      <td>-3.520405</td>\n",
       "      <td>0.006356</td>\n",
       "      <td>3.526761</td>\n",
       "    </tr>\n",
       "    <tr>\n",
       "      <th>11</th>\n",
       "      <td>-3.768156</td>\n",
       "      <td>2.312310</td>\n",
       "      <td>6.080467</td>\n",
       "    </tr>\n",
       "    <tr>\n",
       "      <th>17</th>\n",
       "      <td>-4.093549</td>\n",
       "      <td>0.001413</td>\n",
       "      <td>4.094962</td>\n",
       "    </tr>\n",
       "    <tr>\n",
       "      <th>12</th>\n",
       "      <td>-4.671848</td>\n",
       "      <td>0.023307</td>\n",
       "      <td>4.695155</td>\n",
       "    </tr>\n",
       "    <tr>\n",
       "      <th>6</th>\n",
       "      <td>-5.484583</td>\n",
       "      <td>0.082633</td>\n",
       "      <td>5.567216</td>\n",
       "    </tr>\n",
       "    <tr>\n",
       "      <th>10</th>\n",
       "      <td>-6.093135</td>\n",
       "      <td>0.081927</td>\n",
       "      <td>6.175062</td>\n",
       "    </tr>\n",
       "    <tr>\n",
       "      <th>5</th>\n",
       "      <td>-7.646897</td>\n",
       "      <td>0.607388</td>\n",
       "      <td>8.254284</td>\n",
       "    </tr>\n",
       "  </tbody>\n",
       "</table>\n",
       "</div>"
      ],
      "text/plain": [
       "          DiffPerc   CustPerc   PopPerc\n",
       "Cluster                                \n",
       "8        43.097472  47.242743  4.145271\n",
       "2        12.161151  16.657956  4.496805\n",
       "23        4.263841   5.068155  0.804314\n",
       "21        1.543094   1.918215  0.375121\n",
       "13        0.972949   5.984886  5.011937\n",
       "24        0.467879   3.214916  2.747037\n",
       "22       -0.237345   4.370365  4.607710\n",
       "4        -0.834548   2.291122  3.125670\n",
       "15       -1.836237   0.004238  1.840475\n",
       "16       -2.327579   3.517904  5.845483\n",
       "20       -2.328079   0.935094  3.263173\n",
       "7        -2.338997   0.062151  2.401148\n",
       "18       -2.389386   0.454128  2.843514\n",
       "3        -2.612967   0.949926  3.562893\n",
       "1        -2.641343   0.073452  2.714794\n",
       "14       -3.127883   2.012148  5.140030\n",
       "0        -3.228604   0.084752  3.313356\n",
       "19       -3.324844   2.042517  5.367361\n",
       "9        -3.520405   0.006356  3.526761\n",
       "11       -3.768156   2.312310  6.080467\n",
       "17       -4.093549   0.001413  4.094962\n",
       "12       -4.671848   0.023307  4.695155\n",
       "6        -5.484583   0.082633  5.567216\n",
       "10       -6.093135   0.081927  6.175062\n",
       "5        -7.646897   0.607388  8.254284"
      ]
     },
     "execution_count": 74,
     "metadata": {},
     "output_type": "execute_result"
    }
   ],
   "source": [
    "cust_df = pd.DataFrame(kmeans_customer,columns=['Cluster']).reset_index().groupby('Cluster').count()/len(kmeans_customer)*100\n",
    "pop_df = pd.DataFrame(kmeans_pop,columns=['Cluster']).reset_index().groupby('Cluster').count()/len(kmeans_pop)*100\n",
    "diff = (cust_df-pop_df)\n",
    "diff.rename({'index':'DiffPerc'}, axis=1, inplace=True)\n",
    "cust_df.rename({'index':'CustPerc'}, axis=1, inplace=True)\n",
    "pop_df.rename({'index':'PopPerc'}, axis=1, inplace=True)\n",
    "diff = diff.join(cust_df).join(pop_df).sort_values('DiffPerc',ascending=False)\n",
    "diff.fillna(0, inplace=True)\n",
    "diff"
   ]
  },
  {
   "cell_type": "code",
   "execution_count": 75,
   "metadata": {},
   "outputs": [
    {
     "data": {
      "text/html": [
       "<div>\n",
       "<style scoped>\n",
       "    .dataframe tbody tr th:only-of-type {\n",
       "        vertical-align: middle;\n",
       "    }\n",
       "\n",
       "    .dataframe tbody tr th {\n",
       "        vertical-align: top;\n",
       "    }\n",
       "\n",
       "    .dataframe thead th {\n",
       "        text-align: right;\n",
       "    }\n",
       "</style>\n",
       "<table border=\"1\" class=\"dataframe\">\n",
       "  <thead>\n",
       "    <tr style=\"text-align: right;\">\n",
       "      <th></th>\n",
       "      <th>ALTERSKATEGORIE_GROB</th>\n",
       "      <th>ANREDE_KZ</th>\n",
       "      <th>FINANZ_MINIMALIST</th>\n",
       "      <th>FINANZ_SPARER</th>\n",
       "      <th>FINANZ_VORSORGER</th>\n",
       "      <th>FINANZ_ANLEGER</th>\n",
       "      <th>FINANZ_UNAUFFAELLIGER</th>\n",
       "      <th>FINANZ_HAUSBAUER</th>\n",
       "      <th>GREEN_AVANTGARDE</th>\n",
       "      <th>HEALTH_TYP</th>\n",
       "      <th>...</th>\n",
       "      <th>CAMEO_DEUG_2015_4</th>\n",
       "      <th>CAMEO_DEUG_2015_5</th>\n",
       "      <th>CAMEO_DEUG_2015_6</th>\n",
       "      <th>CAMEO_DEUG_2015_7</th>\n",
       "      <th>CAMEO_DEUG_2015_8</th>\n",
       "      <th>CAMEO_DEUG_2015_9</th>\n",
       "      <th>PRAEGENDE_JUGENDJAHRE_MOVEMENT</th>\n",
       "      <th>PRAEGENDE_JUGENDJAHRE_GEN_BY_DECADE</th>\n",
       "      <th>CAMEO_INTL_2015_wealth</th>\n",
       "      <th>CAMEO_INTL_2015_lifestage</th>\n",
       "    </tr>\n",
       "  </thead>\n",
       "  <tbody>\n",
       "    <tr>\n",
       "      <th>0</th>\n",
       "      <td>2.320082</td>\n",
       "      <td>1.724262</td>\n",
       "      <td>2.413016</td>\n",
       "      <td>3.606232</td>\n",
       "      <td>2.725555</td>\n",
       "      <td>3.882967</td>\n",
       "      <td>3.352959</td>\n",
       "      <td>2.920041</td>\n",
       "      <td>0.178805</td>\n",
       "      <td>2.207486</td>\n",
       "      <td>...</td>\n",
       "      <td>0.155697</td>\n",
       "      <td>0.096444</td>\n",
       "      <td>0.163495</td>\n",
       "      <td>0.050205</td>\n",
       "      <td>0.175331</td>\n",
       "      <td>0.121577</td>\n",
       "      <td>0.766726</td>\n",
       "      <td>83.956711</td>\n",
       "      <td>3.211697</td>\n",
       "      <td>2.832885</td>\n",
       "    </tr>\n",
       "    <tr>\n",
       "      <th>1</th>\n",
       "      <td>1.585908</td>\n",
       "      <td>1.689891</td>\n",
       "      <td>2.068004</td>\n",
       "      <td>4.417171</td>\n",
       "      <td>2.240836</td>\n",
       "      <td>4.738010</td>\n",
       "      <td>4.613496</td>\n",
       "      <td>2.811093</td>\n",
       "      <td>0.394642</td>\n",
       "      <td>2.209578</td>\n",
       "      <td>...</td>\n",
       "      <td>0.292832</td>\n",
       "      <td>0.044150</td>\n",
       "      <td>0.062575</td>\n",
       "      <td>-0.099601</td>\n",
       "      <td>0.016000</td>\n",
       "      <td>0.106240</td>\n",
       "      <td>0.115837</td>\n",
       "      <td>89.210170</td>\n",
       "      <td>1.904552</td>\n",
       "      <td>3.496776</td>\n",
       "    </tr>\n",
       "    <tr>\n",
       "      <th>2</th>\n",
       "      <td>3.568556</td>\n",
       "      <td>1.945003</td>\n",
       "      <td>4.408590</td>\n",
       "      <td>1.275304</td>\n",
       "      <td>4.490455</td>\n",
       "      <td>1.791816</td>\n",
       "      <td>1.883504</td>\n",
       "      <td>2.534452</td>\n",
       "      <td>0.927044</td>\n",
       "      <td>2.073252</td>\n",
       "      <td>...</td>\n",
       "      <td>0.174973</td>\n",
       "      <td>0.040061</td>\n",
       "      <td>0.101957</td>\n",
       "      <td>0.040497</td>\n",
       "      <td>0.017793</td>\n",
       "      <td>0.032375</td>\n",
       "      <td>1.389601</td>\n",
       "      <td>61.758159</td>\n",
       "      <td>2.019495</td>\n",
       "      <td>3.680609</td>\n",
       "    </tr>\n",
       "    <tr>\n",
       "      <th>3</th>\n",
       "      <td>2.905061</td>\n",
       "      <td>1.200584</td>\n",
       "      <td>2.742376</td>\n",
       "      <td>2.377668</td>\n",
       "      <td>3.725577</td>\n",
       "      <td>1.954472</td>\n",
       "      <td>1.669033</td>\n",
       "      <td>3.744296</td>\n",
       "      <td>0.018617</td>\n",
       "      <td>2.452676</td>\n",
       "      <td>...</td>\n",
       "      <td>0.008003</td>\n",
       "      <td>0.038706</td>\n",
       "      <td>0.030993</td>\n",
       "      <td>0.109623</td>\n",
       "      <td>0.261773</td>\n",
       "      <td>0.547752</td>\n",
       "      <td>0.933410</td>\n",
       "      <td>69.317121</td>\n",
       "      <td>4.690595</td>\n",
       "      <td>1.918601</td>\n",
       "    </tr>\n",
       "    <tr>\n",
       "      <th>4</th>\n",
       "      <td>3.490913</td>\n",
       "      <td>1.496823</td>\n",
       "      <td>2.904778</td>\n",
       "      <td>1.775278</td>\n",
       "      <td>4.418590</td>\n",
       "      <td>1.855838</td>\n",
       "      <td>1.562554</td>\n",
       "      <td>4.129693</td>\n",
       "      <td>0.051728</td>\n",
       "      <td>2.156395</td>\n",
       "      <td>...</td>\n",
       "      <td>0.043343</td>\n",
       "      <td>0.039797</td>\n",
       "      <td>0.203458</td>\n",
       "      <td>0.119373</td>\n",
       "      <td>0.349124</td>\n",
       "      <td>0.176050</td>\n",
       "      <td>1.049720</td>\n",
       "      <td>62.104550</td>\n",
       "      <td>4.206406</td>\n",
       "      <td>2.828616</td>\n",
       "    </tr>\n",
       "    <tr>\n",
       "      <th>5</th>\n",
       "      <td>1.688606</td>\n",
       "      <td>1.992168</td>\n",
       "      <td>0.981794</td>\n",
       "      <td>4.553703</td>\n",
       "      <td>2.129180</td>\n",
       "      <td>4.426822</td>\n",
       "      <td>3.889353</td>\n",
       "      <td>4.450518</td>\n",
       "      <td>0.035787</td>\n",
       "      <td>2.186051</td>\n",
       "      <td>...</td>\n",
       "      <td>-0.004946</td>\n",
       "      <td>0.069650</td>\n",
       "      <td>0.097310</td>\n",
       "      <td>0.168572</td>\n",
       "      <td>0.318740</td>\n",
       "      <td>0.325697</td>\n",
       "      <td>1.031821</td>\n",
       "      <td>86.282779</td>\n",
       "      <td>4.455285</td>\n",
       "      <td>1.939378</td>\n",
       "    </tr>\n",
       "    <tr>\n",
       "      <th>6</th>\n",
       "      <td>1.841959</td>\n",
       "      <td>1.978207</td>\n",
       "      <td>1.626933</td>\n",
       "      <td>4.216950</td>\n",
       "      <td>2.200047</td>\n",
       "      <td>4.534383</td>\n",
       "      <td>4.003754</td>\n",
       "      <td>3.614417</td>\n",
       "      <td>0.072920</td>\n",
       "      <td>2.236757</td>\n",
       "      <td>...</td>\n",
       "      <td>0.191759</td>\n",
       "      <td>0.102394</td>\n",
       "      <td>0.173047</td>\n",
       "      <td>0.131578</td>\n",
       "      <td>0.063341</td>\n",
       "      <td>0.049477</td>\n",
       "      <td>0.976695</td>\n",
       "      <td>86.095851</td>\n",
       "      <td>2.911004</td>\n",
       "      <td>3.058763</td>\n",
       "    </tr>\n",
       "    <tr>\n",
       "      <th>7</th>\n",
       "      <td>2.620804</td>\n",
       "      <td>1.399494</td>\n",
       "      <td>4.008933</td>\n",
       "      <td>2.881911</td>\n",
       "      <td>2.767864</td>\n",
       "      <td>2.969167</td>\n",
       "      <td>3.332476</td>\n",
       "      <td>1.279927</td>\n",
       "      <td>0.129300</td>\n",
       "      <td>2.260397</td>\n",
       "      <td>...</td>\n",
       "      <td>0.190144</td>\n",
       "      <td>0.006655</td>\n",
       "      <td>0.140009</td>\n",
       "      <td>0.022878</td>\n",
       "      <td>0.231268</td>\n",
       "      <td>-0.037204</td>\n",
       "      <td>0.858274</td>\n",
       "      <td>79.676437</td>\n",
       "      <td>2.590577</td>\n",
       "      <td>3.232174</td>\n",
       "    </tr>\n",
       "    <tr>\n",
       "      <th>8</th>\n",
       "      <td>3.486762</td>\n",
       "      <td>1.049900</td>\n",
       "      <td>4.965976</td>\n",
       "      <td>1.234365</td>\n",
       "      <td>4.649710</td>\n",
       "      <td>1.120831</td>\n",
       "      <td>1.845999</td>\n",
       "      <td>2.294159</td>\n",
       "      <td>0.974995</td>\n",
       "      <td>1.873623</td>\n",
       "      <td>...</td>\n",
       "      <td>0.144527</td>\n",
       "      <td>0.056691</td>\n",
       "      <td>0.093129</td>\n",
       "      <td>0.052411</td>\n",
       "      <td>0.051313</td>\n",
       "      <td>0.011557</td>\n",
       "      <td>1.469293</td>\n",
       "      <td>60.755844</td>\n",
       "      <td>2.082425</td>\n",
       "      <td>3.640175</td>\n",
       "    </tr>\n",
       "    <tr>\n",
       "      <th>9</th>\n",
       "      <td>2.371565</td>\n",
       "      <td>1.366138</td>\n",
       "      <td>4.185454</td>\n",
       "      <td>3.152640</td>\n",
       "      <td>2.610723</td>\n",
       "      <td>3.012077</td>\n",
       "      <td>3.501501</td>\n",
       "      <td>1.047986</td>\n",
       "      <td>0.991870</td>\n",
       "      <td>2.377898</td>\n",
       "      <td>...</td>\n",
       "      <td>0.197173</td>\n",
       "      <td>0.068832</td>\n",
       "      <td>0.075356</td>\n",
       "      <td>0.078443</td>\n",
       "      <td>0.026579</td>\n",
       "      <td>0.019934</td>\n",
       "      <td>0.506784</td>\n",
       "      <td>82.047160</td>\n",
       "      <td>2.157195</td>\n",
       "      <td>3.296843</td>\n",
       "    </tr>\n",
       "    <tr>\n",
       "      <th>10</th>\n",
       "      <td>1.851455</td>\n",
       "      <td>0.961003</td>\n",
       "      <td>1.707741</td>\n",
       "      <td>4.595916</td>\n",
       "      <td>1.911638</td>\n",
       "      <td>3.737313</td>\n",
       "      <td>3.962765</td>\n",
       "      <td>3.755008</td>\n",
       "      <td>0.068849</td>\n",
       "      <td>2.342831</td>\n",
       "      <td>...</td>\n",
       "      <td>0.022881</td>\n",
       "      <td>0.038530</td>\n",
       "      <td>0.115258</td>\n",
       "      <td>0.128876</td>\n",
       "      <td>0.328099</td>\n",
       "      <td>0.347478</td>\n",
       "      <td>0.890683</td>\n",
       "      <td>87.924624</td>\n",
       "      <td>4.452103</td>\n",
       "      <td>1.931590</td>\n",
       "    </tr>\n",
       "    <tr>\n",
       "      <th>11</th>\n",
       "      <td>3.225243</td>\n",
       "      <td>1.051128</td>\n",
       "      <td>3.166783</td>\n",
       "      <td>2.076912</td>\n",
       "      <td>4.190400</td>\n",
       "      <td>1.684801</td>\n",
       "      <td>1.778599</td>\n",
       "      <td>3.426093</td>\n",
       "      <td>0.008160</td>\n",
       "      <td>2.375656</td>\n",
       "      <td>...</td>\n",
       "      <td>0.052520</td>\n",
       "      <td>0.033401</td>\n",
       "      <td>0.180298</td>\n",
       "      <td>0.138500</td>\n",
       "      <td>0.304300</td>\n",
       "      <td>0.258330</td>\n",
       "      <td>1.023466</td>\n",
       "      <td>65.957469</td>\n",
       "      <td>4.312803</td>\n",
       "      <td>2.363016</td>\n",
       "    </tr>\n",
       "    <tr>\n",
       "      <th>12</th>\n",
       "      <td>2.997736</td>\n",
       "      <td>1.973228</td>\n",
       "      <td>2.159936</td>\n",
       "      <td>2.762178</td>\n",
       "      <td>3.594665</td>\n",
       "      <td>2.889182</td>\n",
       "      <td>2.298511</td>\n",
       "      <td>3.780178</td>\n",
       "      <td>0.019604</td>\n",
       "      <td>2.425683</td>\n",
       "      <td>...</td>\n",
       "      <td>0.097486</td>\n",
       "      <td>0.019478</td>\n",
       "      <td>0.117444</td>\n",
       "      <td>0.101709</td>\n",
       "      <td>0.340141</td>\n",
       "      <td>0.244780</td>\n",
       "      <td>0.867748</td>\n",
       "      <td>72.521846</td>\n",
       "      <td>4.109673</td>\n",
       "      <td>2.438889</td>\n",
       "    </tr>\n",
       "    <tr>\n",
       "      <th>13</th>\n",
       "      <td>3.981564</td>\n",
       "      <td>1.925912</td>\n",
       "      <td>2.599220</td>\n",
       "      <td>1.476232</td>\n",
       "      <td>4.665864</td>\n",
       "      <td>1.786365</td>\n",
       "      <td>1.423796</td>\n",
       "      <td>4.549999</td>\n",
       "      <td>0.010174</td>\n",
       "      <td>1.779067</td>\n",
       "      <td>...</td>\n",
       "      <td>0.018208</td>\n",
       "      <td>0.028374</td>\n",
       "      <td>0.196170</td>\n",
       "      <td>0.095865</td>\n",
       "      <td>0.356410</td>\n",
       "      <td>0.260478</td>\n",
       "      <td>1.081813</td>\n",
       "      <td>58.040152</td>\n",
       "      <td>4.390555</td>\n",
       "      <td>2.722819</td>\n",
       "    </tr>\n",
       "    <tr>\n",
       "      <th>14</th>\n",
       "      <td>3.101655</td>\n",
       "      <td>1.469772</td>\n",
       "      <td>4.445616</td>\n",
       "      <td>2.047442</td>\n",
       "      <td>3.839551</td>\n",
       "      <td>2.803273</td>\n",
       "      <td>2.142552</td>\n",
       "      <td>1.873542</td>\n",
       "      <td>0.015842</td>\n",
       "      <td>2.149582</td>\n",
       "      <td>...</td>\n",
       "      <td>0.253064</td>\n",
       "      <td>0.102738</td>\n",
       "      <td>0.144897</td>\n",
       "      <td>0.091733</td>\n",
       "      <td>0.007842</td>\n",
       "      <td>0.013076</td>\n",
       "      <td>1.054745</td>\n",
       "      <td>70.128082</td>\n",
       "      <td>2.440027</td>\n",
       "      <td>3.202424</td>\n",
       "    </tr>\n",
       "    <tr>\n",
       "      <th>15</th>\n",
       "      <td>3.046303</td>\n",
       "      <td>1.455296</td>\n",
       "      <td>4.065246</td>\n",
       "      <td>2.639964</td>\n",
       "      <td>3.732558</td>\n",
       "      <td>3.237926</td>\n",
       "      <td>2.455815</td>\n",
       "      <td>1.598749</td>\n",
       "      <td>0.557720</td>\n",
       "      <td>2.014792</td>\n",
       "      <td>...</td>\n",
       "      <td>0.260683</td>\n",
       "      <td>0.028946</td>\n",
       "      <td>0.191302</td>\n",
       "      <td>-0.025205</td>\n",
       "      <td>0.006869</td>\n",
       "      <td>0.132223</td>\n",
       "      <td>0.301589</td>\n",
       "      <td>77.401210</td>\n",
       "      <td>2.411608</td>\n",
       "      <td>3.051704</td>\n",
       "    </tr>\n",
       "    <tr>\n",
       "      <th>16</th>\n",
       "      <td>3.403345</td>\n",
       "      <td>1.465108</td>\n",
       "      <td>4.560878</td>\n",
       "      <td>1.555004</td>\n",
       "      <td>4.287965</td>\n",
       "      <td>2.306790</td>\n",
       "      <td>1.803256</td>\n",
       "      <td>2.215600</td>\n",
       "      <td>-0.019993</td>\n",
       "      <td>2.183029</td>\n",
       "      <td>...</td>\n",
       "      <td>0.240980</td>\n",
       "      <td>0.109442</td>\n",
       "      <td>0.125580</td>\n",
       "      <td>0.084758</td>\n",
       "      <td>0.008304</td>\n",
       "      <td>0.041838</td>\n",
       "      <td>1.089586</td>\n",
       "      <td>63.342089</td>\n",
       "      <td>2.482903</td>\n",
       "      <td>3.252151</td>\n",
       "    </tr>\n",
       "    <tr>\n",
       "      <th>17</th>\n",
       "      <td>1.904172</td>\n",
       "      <td>0.964302</td>\n",
       "      <td>2.620109</td>\n",
       "      <td>4.137684</td>\n",
       "      <td>1.985822</td>\n",
       "      <td>3.840837</td>\n",
       "      <td>3.985605</td>\n",
       "      <td>2.812007</td>\n",
       "      <td>0.154623</td>\n",
       "      <td>2.281168</td>\n",
       "      <td>...</td>\n",
       "      <td>0.208509</td>\n",
       "      <td>0.093175</td>\n",
       "      <td>0.176002</td>\n",
       "      <td>0.081549</td>\n",
       "      <td>0.089337</td>\n",
       "      <td>0.073042</td>\n",
       "      <td>0.778429</td>\n",
       "      <td>86.545095</td>\n",
       "      <td>2.940784</td>\n",
       "      <td>3.050237</td>\n",
       "    </tr>\n",
       "    <tr>\n",
       "      <th>18</th>\n",
       "      <td>2.300888</td>\n",
       "      <td>1.534360</td>\n",
       "      <td>3.353683</td>\n",
       "      <td>3.327281</td>\n",
       "      <td>2.531022</td>\n",
       "      <td>3.371757</td>\n",
       "      <td>3.670861</td>\n",
       "      <td>1.924616</td>\n",
       "      <td>0.233074</td>\n",
       "      <td>2.440063</td>\n",
       "      <td>...</td>\n",
       "      <td>0.134882</td>\n",
       "      <td>0.127988</td>\n",
       "      <td>0.087187</td>\n",
       "      <td>0.158032</td>\n",
       "      <td>0.094708</td>\n",
       "      <td>-0.048233</td>\n",
       "      <td>0.952995</td>\n",
       "      <td>84.434735</td>\n",
       "      <td>2.590202</td>\n",
       "      <td>3.164188</td>\n",
       "    </tr>\n",
       "    <tr>\n",
       "      <th>19</th>\n",
       "      <td>3.510397</td>\n",
       "      <td>1.767218</td>\n",
       "      <td>3.039281</td>\n",
       "      <td>1.748350</td>\n",
       "      <td>4.267681</td>\n",
       "      <td>2.760017</td>\n",
       "      <td>1.648816</td>\n",
       "      <td>3.976957</td>\n",
       "      <td>0.106327</td>\n",
       "      <td>2.073081</td>\n",
       "      <td>...</td>\n",
       "      <td>0.148835</td>\n",
       "      <td>0.062931</td>\n",
       "      <td>0.204628</td>\n",
       "      <td>0.126865</td>\n",
       "      <td>0.158745</td>\n",
       "      <td>0.036832</td>\n",
       "      <td>1.096110</td>\n",
       "      <td>63.670986</td>\n",
       "      <td>3.191782</td>\n",
       "      <td>3.261304</td>\n",
       "    </tr>\n",
       "    <tr>\n",
       "      <th>20</th>\n",
       "      <td>2.973834</td>\n",
       "      <td>1.410145</td>\n",
       "      <td>3.785858</td>\n",
       "      <td>2.378046</td>\n",
       "      <td>3.563302</td>\n",
       "      <td>2.752414</td>\n",
       "      <td>2.484562</td>\n",
       "      <td>2.424067</td>\n",
       "      <td>0.382315</td>\n",
       "      <td>2.168147</td>\n",
       "      <td>...</td>\n",
       "      <td>0.234810</td>\n",
       "      <td>0.030381</td>\n",
       "      <td>0.092378</td>\n",
       "      <td>0.087355</td>\n",
       "      <td>0.169340</td>\n",
       "      <td>-0.035946</td>\n",
       "      <td>0.859088</td>\n",
       "      <td>71.851660</td>\n",
       "      <td>2.448917</td>\n",
       "      <td>3.106825</td>\n",
       "    </tr>\n",
       "    <tr>\n",
       "      <th>21</th>\n",
       "      <td>2.972836</td>\n",
       "      <td>1.447574</td>\n",
       "      <td>3.667177</td>\n",
       "      <td>1.974696</td>\n",
       "      <td>3.911188</td>\n",
       "      <td>2.037379</td>\n",
       "      <td>2.271820</td>\n",
       "      <td>3.252290</td>\n",
       "      <td>0.637144</td>\n",
       "      <td>2.209024</td>\n",
       "      <td>...</td>\n",
       "      <td>-0.089598</td>\n",
       "      <td>0.357283</td>\n",
       "      <td>0.101067</td>\n",
       "      <td>-0.024621</td>\n",
       "      <td>0.011997</td>\n",
       "      <td>0.296251</td>\n",
       "      <td>1.463945</td>\n",
       "      <td>65.808186</td>\n",
       "      <td>3.031890</td>\n",
       "      <td>3.587824</td>\n",
       "    </tr>\n",
       "    <tr>\n",
       "      <th>22</th>\n",
       "      <td>3.218179</td>\n",
       "      <td>1.343142</td>\n",
       "      <td>3.371638</td>\n",
       "      <td>1.655193</td>\n",
       "      <td>4.413084</td>\n",
       "      <td>1.254332</td>\n",
       "      <td>2.086602</td>\n",
       "      <td>3.779753</td>\n",
       "      <td>0.416031</td>\n",
       "      <td>2.170534</td>\n",
       "      <td>...</td>\n",
       "      <td>0.095361</td>\n",
       "      <td>0.180563</td>\n",
       "      <td>0.161941</td>\n",
       "      <td>0.190499</td>\n",
       "      <td>0.174962</td>\n",
       "      <td>0.042280</td>\n",
       "      <td>1.077531</td>\n",
       "      <td>64.113677</td>\n",
       "      <td>3.363145</td>\n",
       "      <td>2.950033</td>\n",
       "    </tr>\n",
       "    <tr>\n",
       "      <th>23</th>\n",
       "      <td>3.134175</td>\n",
       "      <td>1.410403</td>\n",
       "      <td>3.870010</td>\n",
       "      <td>1.907236</td>\n",
       "      <td>4.056569</td>\n",
       "      <td>2.041992</td>\n",
       "      <td>2.214964</td>\n",
       "      <td>2.876746</td>\n",
       "      <td>0.538745</td>\n",
       "      <td>2.024581</td>\n",
       "      <td>...</td>\n",
       "      <td>0.051945</td>\n",
       "      <td>0.170703</td>\n",
       "      <td>0.015260</td>\n",
       "      <td>-0.023402</td>\n",
       "      <td>0.162051</td>\n",
       "      <td>0.057100</td>\n",
       "      <td>1.096827</td>\n",
       "      <td>66.320290</td>\n",
       "      <td>2.255755</td>\n",
       "      <td>3.549748</td>\n",
       "    </tr>\n",
       "    <tr>\n",
       "      <th>24</th>\n",
       "      <td>3.293970</td>\n",
       "      <td>1.399549</td>\n",
       "      <td>4.563477</td>\n",
       "      <td>1.587889</td>\n",
       "      <td>4.300829</td>\n",
       "      <td>2.308347</td>\n",
       "      <td>1.857164</td>\n",
       "      <td>2.252041</td>\n",
       "      <td>0.017694</td>\n",
       "      <td>2.207978</td>\n",
       "      <td>...</td>\n",
       "      <td>0.230279</td>\n",
       "      <td>0.100696</td>\n",
       "      <td>0.132887</td>\n",
       "      <td>0.077918</td>\n",
       "      <td>0.025531</td>\n",
       "      <td>0.005673</td>\n",
       "      <td>1.124934</td>\n",
       "      <td>64.041360</td>\n",
       "      <td>2.394217</td>\n",
       "      <td>3.372359</td>\n",
       "    </tr>\n",
       "  </tbody>\n",
       "</table>\n",
       "<p>25 rows × 148 columns</p>\n",
       "</div>"
      ],
      "text/plain": [
       "    ALTERSKATEGORIE_GROB  ANREDE_KZ  FINANZ_MINIMALIST  FINANZ_SPARER  \\\n",
       "0               2.320082   1.724262           2.413016       3.606232   \n",
       "1               1.585908   1.689891           2.068004       4.417171   \n",
       "2               3.568556   1.945003           4.408590       1.275304   \n",
       "3               2.905061   1.200584           2.742376       2.377668   \n",
       "4               3.490913   1.496823           2.904778       1.775278   \n",
       "5               1.688606   1.992168           0.981794       4.553703   \n",
       "6               1.841959   1.978207           1.626933       4.216950   \n",
       "7               2.620804   1.399494           4.008933       2.881911   \n",
       "8               3.486762   1.049900           4.965976       1.234365   \n",
       "9               2.371565   1.366138           4.185454       3.152640   \n",
       "10              1.851455   0.961003           1.707741       4.595916   \n",
       "11              3.225243   1.051128           3.166783       2.076912   \n",
       "12              2.997736   1.973228           2.159936       2.762178   \n",
       "13              3.981564   1.925912           2.599220       1.476232   \n",
       "14              3.101655   1.469772           4.445616       2.047442   \n",
       "15              3.046303   1.455296           4.065246       2.639964   \n",
       "16              3.403345   1.465108           4.560878       1.555004   \n",
       "17              1.904172   0.964302           2.620109       4.137684   \n",
       "18              2.300888   1.534360           3.353683       3.327281   \n",
       "19              3.510397   1.767218           3.039281       1.748350   \n",
       "20              2.973834   1.410145           3.785858       2.378046   \n",
       "21              2.972836   1.447574           3.667177       1.974696   \n",
       "22              3.218179   1.343142           3.371638       1.655193   \n",
       "23              3.134175   1.410403           3.870010       1.907236   \n",
       "24              3.293970   1.399549           4.563477       1.587889   \n",
       "\n",
       "    FINANZ_VORSORGER  FINANZ_ANLEGER  FINANZ_UNAUFFAELLIGER  FINANZ_HAUSBAUER  \\\n",
       "0           2.725555        3.882967               3.352959          2.920041   \n",
       "1           2.240836        4.738010               4.613496          2.811093   \n",
       "2           4.490455        1.791816               1.883504          2.534452   \n",
       "3           3.725577        1.954472               1.669033          3.744296   \n",
       "4           4.418590        1.855838               1.562554          4.129693   \n",
       "5           2.129180        4.426822               3.889353          4.450518   \n",
       "6           2.200047        4.534383               4.003754          3.614417   \n",
       "7           2.767864        2.969167               3.332476          1.279927   \n",
       "8           4.649710        1.120831               1.845999          2.294159   \n",
       "9           2.610723        3.012077               3.501501          1.047986   \n",
       "10          1.911638        3.737313               3.962765          3.755008   \n",
       "11          4.190400        1.684801               1.778599          3.426093   \n",
       "12          3.594665        2.889182               2.298511          3.780178   \n",
       "13          4.665864        1.786365               1.423796          4.549999   \n",
       "14          3.839551        2.803273               2.142552          1.873542   \n",
       "15          3.732558        3.237926               2.455815          1.598749   \n",
       "16          4.287965        2.306790               1.803256          2.215600   \n",
       "17          1.985822        3.840837               3.985605          2.812007   \n",
       "18          2.531022        3.371757               3.670861          1.924616   \n",
       "19          4.267681        2.760017               1.648816          3.976957   \n",
       "20          3.563302        2.752414               2.484562          2.424067   \n",
       "21          3.911188        2.037379               2.271820          3.252290   \n",
       "22          4.413084        1.254332               2.086602          3.779753   \n",
       "23          4.056569        2.041992               2.214964          2.876746   \n",
       "24          4.300829        2.308347               1.857164          2.252041   \n",
       "\n",
       "    GREEN_AVANTGARDE  HEALTH_TYP  ...  CAMEO_DEUG_2015_4  CAMEO_DEUG_2015_5  \\\n",
       "0           0.178805    2.207486  ...           0.155697           0.096444   \n",
       "1           0.394642    2.209578  ...           0.292832           0.044150   \n",
       "2           0.927044    2.073252  ...           0.174973           0.040061   \n",
       "3           0.018617    2.452676  ...           0.008003           0.038706   \n",
       "4           0.051728    2.156395  ...           0.043343           0.039797   \n",
       "5           0.035787    2.186051  ...          -0.004946           0.069650   \n",
       "6           0.072920    2.236757  ...           0.191759           0.102394   \n",
       "7           0.129300    2.260397  ...           0.190144           0.006655   \n",
       "8           0.974995    1.873623  ...           0.144527           0.056691   \n",
       "9           0.991870    2.377898  ...           0.197173           0.068832   \n",
       "10          0.068849    2.342831  ...           0.022881           0.038530   \n",
       "11          0.008160    2.375656  ...           0.052520           0.033401   \n",
       "12          0.019604    2.425683  ...           0.097486           0.019478   \n",
       "13          0.010174    1.779067  ...           0.018208           0.028374   \n",
       "14          0.015842    2.149582  ...           0.253064           0.102738   \n",
       "15          0.557720    2.014792  ...           0.260683           0.028946   \n",
       "16         -0.019993    2.183029  ...           0.240980           0.109442   \n",
       "17          0.154623    2.281168  ...           0.208509           0.093175   \n",
       "18          0.233074    2.440063  ...           0.134882           0.127988   \n",
       "19          0.106327    2.073081  ...           0.148835           0.062931   \n",
       "20          0.382315    2.168147  ...           0.234810           0.030381   \n",
       "21          0.637144    2.209024  ...          -0.089598           0.357283   \n",
       "22          0.416031    2.170534  ...           0.095361           0.180563   \n",
       "23          0.538745    2.024581  ...           0.051945           0.170703   \n",
       "24          0.017694    2.207978  ...           0.230279           0.100696   \n",
       "\n",
       "    CAMEO_DEUG_2015_6  CAMEO_DEUG_2015_7  CAMEO_DEUG_2015_8  \\\n",
       "0            0.163495           0.050205           0.175331   \n",
       "1            0.062575          -0.099601           0.016000   \n",
       "2            0.101957           0.040497           0.017793   \n",
       "3            0.030993           0.109623           0.261773   \n",
       "4            0.203458           0.119373           0.349124   \n",
       "5            0.097310           0.168572           0.318740   \n",
       "6            0.173047           0.131578           0.063341   \n",
       "7            0.140009           0.022878           0.231268   \n",
       "8            0.093129           0.052411           0.051313   \n",
       "9            0.075356           0.078443           0.026579   \n",
       "10           0.115258           0.128876           0.328099   \n",
       "11           0.180298           0.138500           0.304300   \n",
       "12           0.117444           0.101709           0.340141   \n",
       "13           0.196170           0.095865           0.356410   \n",
       "14           0.144897           0.091733           0.007842   \n",
       "15           0.191302          -0.025205           0.006869   \n",
       "16           0.125580           0.084758           0.008304   \n",
       "17           0.176002           0.081549           0.089337   \n",
       "18           0.087187           0.158032           0.094708   \n",
       "19           0.204628           0.126865           0.158745   \n",
       "20           0.092378           0.087355           0.169340   \n",
       "21           0.101067          -0.024621           0.011997   \n",
       "22           0.161941           0.190499           0.174962   \n",
       "23           0.015260          -0.023402           0.162051   \n",
       "24           0.132887           0.077918           0.025531   \n",
       "\n",
       "    CAMEO_DEUG_2015_9  PRAEGENDE_JUGENDJAHRE_MOVEMENT  \\\n",
       "0            0.121577                        0.766726   \n",
       "1            0.106240                        0.115837   \n",
       "2            0.032375                        1.389601   \n",
       "3            0.547752                        0.933410   \n",
       "4            0.176050                        1.049720   \n",
       "5            0.325697                        1.031821   \n",
       "6            0.049477                        0.976695   \n",
       "7           -0.037204                        0.858274   \n",
       "8            0.011557                        1.469293   \n",
       "9            0.019934                        0.506784   \n",
       "10           0.347478                        0.890683   \n",
       "11           0.258330                        1.023466   \n",
       "12           0.244780                        0.867748   \n",
       "13           0.260478                        1.081813   \n",
       "14           0.013076                        1.054745   \n",
       "15           0.132223                        0.301589   \n",
       "16           0.041838                        1.089586   \n",
       "17           0.073042                        0.778429   \n",
       "18          -0.048233                        0.952995   \n",
       "19           0.036832                        1.096110   \n",
       "20          -0.035946                        0.859088   \n",
       "21           0.296251                        1.463945   \n",
       "22           0.042280                        1.077531   \n",
       "23           0.057100                        1.096827   \n",
       "24           0.005673                        1.124934   \n",
       "\n",
       "    PRAEGENDE_JUGENDJAHRE_GEN_BY_DECADE  CAMEO_INTL_2015_wealth  \\\n",
       "0                             83.956711                3.211697   \n",
       "1                             89.210170                1.904552   \n",
       "2                             61.758159                2.019495   \n",
       "3                             69.317121                4.690595   \n",
       "4                             62.104550                4.206406   \n",
       "5                             86.282779                4.455285   \n",
       "6                             86.095851                2.911004   \n",
       "7                             79.676437                2.590577   \n",
       "8                             60.755844                2.082425   \n",
       "9                             82.047160                2.157195   \n",
       "10                            87.924624                4.452103   \n",
       "11                            65.957469                4.312803   \n",
       "12                            72.521846                4.109673   \n",
       "13                            58.040152                4.390555   \n",
       "14                            70.128082                2.440027   \n",
       "15                            77.401210                2.411608   \n",
       "16                            63.342089                2.482903   \n",
       "17                            86.545095                2.940784   \n",
       "18                            84.434735                2.590202   \n",
       "19                            63.670986                3.191782   \n",
       "20                            71.851660                2.448917   \n",
       "21                            65.808186                3.031890   \n",
       "22                            64.113677                3.363145   \n",
       "23                            66.320290                2.255755   \n",
       "24                            64.041360                2.394217   \n",
       "\n",
       "    CAMEO_INTL_2015_lifestage  \n",
       "0                    2.832885  \n",
       "1                    3.496776  \n",
       "2                    3.680609  \n",
       "3                    1.918601  \n",
       "4                    2.828616  \n",
       "5                    1.939378  \n",
       "6                    3.058763  \n",
       "7                    3.232174  \n",
       "8                    3.640175  \n",
       "9                    3.296843  \n",
       "10                   1.931590  \n",
       "11                   2.363016  \n",
       "12                   2.438889  \n",
       "13                   2.722819  \n",
       "14                   3.202424  \n",
       "15                   3.051704  \n",
       "16                   3.252151  \n",
       "17                   3.050237  \n",
       "18                   3.164188  \n",
       "19                   3.261304  \n",
       "20                   3.106825  \n",
       "21                   3.587824  \n",
       "22                   2.950033  \n",
       "23                   3.549748  \n",
       "24                   3.372359  \n",
       "\n",
       "[25 rows x 148 columns]"
      ]
     },
     "execution_count": 75,
     "metadata": {},
     "output_type": "execute_result"
    }
   ],
   "source": [
    "# What kinds of people are part of a cluster that is overrepresented in the\n",
    "# customer data compared to the general population?\n",
    "cluster_specs = pd.DataFrame(scaler.inverse_transform(pca.inverse_transform(kmeans.cluster_centers_)), columns=azdias_rows__missing_low.columns)\n",
    "cluster_specs"
   ]
  },
  {
   "cell_type": "code",
   "execution_count": 76,
   "metadata": {},
   "outputs": [
    {
     "data": {
      "image/png": "[encoded data removed]",
      "text/plain": [
       "<Figure size 432x288 with 1 Axes>"
      ]
     },
     "metadata": {
      "needs_background": "light"
     },
     "output_type": "display_data"
    }
   ],
   "source": [
    "weight_mapper(azdias_rows__missing_low, pca, 12) #checking if cluster 14 maps to same features for both customer and general population"
   ]
  },
  {
   "cell_type": "code",
   "execution_count": 77,
   "metadata": {},
   "outputs": [
    {
     "data": {
      "image/png": "[encoded data removed]",
      "text/plain": [
       "<Figure size 432x288 with 1 Axes>"
      ]
     },
     "metadata": {
      "needs_background": "light"
     },
     "output_type": "display_data"
    }
   ],
   "source": [
    "#mapping most overrepresented customer clsuter to top 10/bottom 10 features\n",
    "weight_mapper(customer_data_clean, pca, 12)"
   ]
  },
  {
   "cell_type": "code",
   "execution_count": 78,
   "metadata": {},
   "outputs": [
    {
     "data": {
      "image/png": "[encoded data removed]",
      "text/plain": [
       "<Figure size 432x288 with 1 Axes>"
      ]
     },
     "metadata": {
      "needs_background": "light"
     },
     "output_type": "display_data"
    }
   ],
   "source": [
    "weight_mapper(customer_data_clean, pca, 5)"
   ]
  },
  {
   "cell_type": "code",
   "execution_count": 79,
   "metadata": {},
   "outputs": [
    {
     "data": {
      "image/png": "[encoded data removed]",
      "text/plain": [
       "<Figure size 432x288 with 1 Axes>"
      ]
     },
     "metadata": {
      "needs_background": "light"
     },
     "output_type": "display_data"
    }
   ],
   "source": [
    "# What kinds of people are part of a cluster that is underrepresented in the\n",
    "# customer data compared to the general population?\n",
    "#mapping most underrepresented customer clsuter to top 10/bottom 10 features\n",
    "weight_mapper(customer_data_clean, pca, 9)"
   ]
  },
  {
   "cell_type": "code",
   "execution_count": 80,
   "metadata": {},
   "outputs": [
    {
     "data": {
      "image/png": "[encoded data removed]",
      "text/plain": [
       "<Figure size 432x288 with 1 Axes>"
      ]
     },
     "metadata": {
      "needs_background": "light"
     },
     "output_type": "display_data"
    }
   ],
   "source": [
    "weight_mapper(customer_data_clean, pca, 7)"
   ]
  },
  {
   "cell_type": "markdown",
   "metadata": {},
   "source": [
    "### Discussion 3.3: Compare Customer Data to Demographics Data\n",
    "\n",
    "Popular Segments\n",
    "\n",
    "Clusters 12,5 and 6 are over represented in the customer base. \n",
    "\n",
    "Cluster 12 is made of customers who have teenage children and that are single parents.\n",
    "Cluster 5 has a strong corrilation to overall buying power. These people are generally homeowners and have larger family sizes. \n",
    "\n",
    "Unpopular Segments\n",
    "\n",
    "Clusters 9,7, and 3 are the underrepresented groups.\n",
    "\n",
    "Cluster 9 is made of couples and largely low to mid income.\n",
    "Cluster 7 is indivdules that are self employeed. \n"
   ]
  },
  {
   "cell_type": "markdown",
   "metadata": {},
   "source": [
    "> Congratulations on making it this far in the project! Before you finish, make sure to check through the entire notebook from top to bottom to make sure that your analysis follows a logical flow and all of your findings are documented in **Discussion** cells. Once you've checked over all of your work, you should export the notebook as an HTML document to submit for evaluation. You can do this from the menu, navigating to **File -> Download as -> HTML (.html)**. You will submit both that document and this notebook for your project submission."
   ]
  }
 ],
 "metadata": {
  "kernelspec": {
   "display_name": "Python 3",
   "language": "python",
   "name": "python3"
  },
  "language_info": {
   "codemirror_mode": {
    "name": "ipython",
    "version": 3
   },
   "file_extension": ".py",
   "mimetype": "text/x-python",
   "name": "python",
   "nbconvert_exporter": "python",
   "pygments_lexer": "ipython3",
   "version": "3.8.8"
  }
 },
 "nbformat": 4,
 "nbformat_minor": 4
}
